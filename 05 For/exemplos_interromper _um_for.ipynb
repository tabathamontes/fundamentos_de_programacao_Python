{
 "cells": [
  {
   "cell_type": "markdown",
   "metadata": {},
   "source": [
    "# Formas de interromper um for\n",
    "\n",
    "### 2 Opções:\n",
    "\n",
    "- break -> interrompe e finaliza o for\n",
    "- continue -> interrompe e vai para o próximo item do for"
   ]
  },
  {
   "cell_type": "code",
   "execution_count": 4,
   "metadata": {},
   "outputs": [],
   "source": [
    "vendas = [100, 150, 1500, 2000, 120]"
   ]
  },
  {
   "cell_type": "markdown",
   "metadata": {},
   "source": [
    "- Caso 1: Se todas as vendas forem acima da meta, a loja ganha bônus"
   ]
  },
  {
   "cell_type": "code",
   "execution_count": 5,
   "metadata": {},
   "outputs": [
    {
     "name": "stdout",
     "output_type": "stream",
     "text": [
      "A loja não ganha bônus\n"
     ]
    }
   ],
   "source": [
    "meta = 110\n",
    "\n",
    "for venda in vendas:\n",
    "    if venda < meta:\n",
    "        print('A loja não ganha bônus')\n",
    "        break                  #ELE VAI VERIFICA DENTRO DA LISTA A CONDICÃO VERDADEIRA, E QDO ACHAR ELE SAI, COM break\n",
    "                               #NÃO VAI FICAR RODANDO NA LISTA MSM DEPOIS DE ENCONTRAR A CONDIÇÃO.O break 'QUEBRA' O LOOP.\n",
    "    print(venda)\n",
    "\n",
    "    "
   ]
  },
  {
   "cell_type": "markdown",
   "metadata": {},
   "source": [
    "- Caso 2: Exiba quem bateu a meta"
   ]
  },
  {
   "cell_type": "code",
   "execution_count": 10,
   "metadata": {},
   "outputs": [
    {
     "name": "stdout",
     "output_type": "stream",
     "text": [
      "Vendedores: Julia  Vendas:150\n",
      "Vendedores: Ana  Vendas:1500\n",
      "Vendedores: José  Vendas:2000\n"
     ]
    },
    {
     "data": {
      "text/plain": [
       "\"\\nEXEMPLO QUALQUER COM continue\\npalavra = 'abobora'\\nfor letra in palavra:\\n    if letra == 'b':\\n        continue\\n    print(letra)\\n\""
      ]
     },
     "execution_count": 10,
     "metadata": {},
     "output_type": "execute_result"
    }
   ],
   "source": [
    "vendedores = ['João', 'Julia', 'Ana', 'José', 'Maria']\n",
    "meta = 130\n",
    "\n",
    "for i,venda in enumerate(vendas):\n",
    "    if venda < meta:\n",
    "        continue      #SE A CONDIÇÃO É VERDADEIRA,ELE VOLTA PARA O for, E FAZ A VERIFICAÇÃO NOVAMENTE\n",
    "    print(f'Vendedores: {vendedores[i]}  Vendas:{venda}')      #QDO A CONDIÇÃO FOR FALSA, ELE FAZ A LINHA DE BAIXO,NO CASO O PRINT,AQUI, E VOLTA P for\n",
    "                                                                            #continue 'RECOMEÇA' O LOOP \n",
    "'''\n",
    "EXEMPLO QUALQUER COM continue\n",
    "palavra = 'abobora'\n",
    "for letra in palavra:\n",
    "    if letra == 'b':\n",
    "        continue\n",
    "    print(letra)\n",
    "'''\n"
   ]
  }
 ],
 "metadata": {
  "kernelspec": {
   "display_name": "Python 3",
   "language": "python",
   "name": "python3"
  },
  "language_info": {
   "codemirror_mode": {
    "name": "ipython",
    "version": 3
   },
   "file_extension": ".py",
   "mimetype": "text/x-python",
   "name": "python",
   "nbconvert_exporter": "python",
   "pygments_lexer": "ipython3",
   "version": "3.11.9"
  }
 },
 "nbformat": 4,
 "nbformat_minor": 4
}
