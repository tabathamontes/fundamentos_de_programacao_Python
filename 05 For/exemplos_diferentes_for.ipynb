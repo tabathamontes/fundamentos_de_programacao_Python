{
 "cells": [
  {
   "cell_type": "code",
   "execution_count": 5,
   "id": "f384c181",
   "metadata": {},
   "outputs": [],
   "source": [
    "produtos = [\"iphone\", \"ipad\", \"airpod\", \"macbook\"]\n",
    "precos = [7000, 10000, 2500, 14000]"
   ]
  },
  {
   "cell_type": "markdown",
   "id": "ed0a699c",
   "metadata": {},
   "source": [
    "### For item in lista                 \n",
    "\n",
    "Para percorrer uma unica lista,ou unico dicionario,uma unica estrutura que vç consegue percorrer,por padrão usa essa forma:\n",
    "For item in lista  "
   ]
  },
  {
   "cell_type": "code",
   "execution_count": 6,
   "id": "3053355f",
   "metadata": {},
   "outputs": [
    {
     "name": "stdout",
     "output_type": "stream",
     "text": [
      "7700.000000000001\n",
      "11000.0\n",
      "2750.0\n",
      "15400.000000000002\n"
     ]
    }
   ],
   "source": [
    "# preco com imposto\n",
    "for preco in precos:\n",
    "    print(preco * 1.1)\n",
    "\n",
    "    '''\n",
    "    PARA ITERAR DIRETAMENTE SOBRE OS ELEMENTOS DA LISTA SEM USAR ÍNDICES, PODE USAR UM LOOP for SIMPLES:\n",
    "    ESSE for É MAIS DIRETO\n",
    "    COM ESSE TIPO SE EU QUISESSE PRINTAR AS DUAS LISTAS EU IRIA TER QUE FAZER DOIS for,\n",
    "    UM PARA produtos E OUTRO PRA PRECOS, ENTÃO NESSE CASO É MELHOR USAR O for in range\n",
    "    '''"
   ]
  },
  {
   "cell_type": "markdown",
   "id": "51b0c7a8",
   "metadata": {},
   "source": [
    "\n",
    "### A DIFERENÇA ENTRE RANGE E  ENUMERATE É QUE RANGE ME DA SÓ O VALOR DO ITEM , E O ENUMERATE ME DA TANTO O VALOR COMO O INDICE DO ITEM"
   ]
  },
  {
   "cell_type": "markdown",
   "id": "80aa8d07",
   "metadata": {},
   "source": [
    "### For i in range\n",
    "\n",
    "Se tiver duas listas separadas q vc quer co-relacionar, melhor usar:\n",
    "For i in range"
   ]
  },
  {
   "cell_type": "code",
   "execution_count": 8,
   "id": "74b8e12d",
   "metadata": {},
   "outputs": [
    {
     "name": "stdout",
     "output_type": "stream",
     "text": [
      "iphone 7000\n",
      "ipad 10000\n",
      "airpod 2500\n",
      "macbook 14000\n",
      "0\n",
      "1\n",
      "2\n",
      "3\n",
      "4\n"
     ]
    }
   ],
   "source": [
    "# preco de cada produto\n",
    "for i in range(len(precos)):  \n",
    "    produto = produtos[i]\n",
    "    preco = precos[i]\n",
    "    print(produto, preco)\n",
    "\n",
    "'''\n",
    "O for i in range(len(precos)): UTILIZA A FUNÇÃO len() PARA DETERMINAR O COMPRIMENTO DA LISTA PRECOS, \n",
    "PERMITINDO QUE O LOOP PERCORRA TODOS OS ÍNDICES DA LISTA. \n",
    "SEM len(), O range NÃO SABERIA ATÉ ONDE IR. PORTANTO, O len() É ESSENCIAL NESSE CONTEXTO.\n",
    "\n",
    "PROPÓSITO : range é usado para gerar uma sequência de números.\n",
    "USO : Use range quando você só precisa de números.\n",
    "'''\n",
    "for i in range(5): #QDO VÇ TIVER UM NÚMERO FIXO ,COLOCA O VALOR DENTRO DOS ()PRINTA i 5 VEZES\n",
    "    print(i)"
   ]
  },
  {
   "cell_type": "markdown",
   "id": "ba0b37d3",
   "metadata": {},
   "source": [
    "### For item in lista com enumerate\n",
    "\n",
    "Qdo vç quer o valor do indice: For item in lista com enumerate"
   ]
  },
  {
   "cell_type": "code",
   "execution_count": 9,
   "id": "38271545",
   "metadata": {},
   "outputs": [
    {
     "name": "stdout",
     "output_type": "stream",
     "text": [
      "7700.000000000001\n",
      "0\n",
      "11000.0\n",
      "1\n",
      "2750.0\n",
      "2\n",
      "15400.000000000002\n",
      "3\n"
     ]
    },
    {
     "data": {
      "text/plain": [
       "'\\nSE PRECISAR DOS ÍNDICES E DOS VALORES, PODE USAR enumerate()\\nA FUNÇÃO enumerate É USADA PARA ITERAR SOBRE UMA SEQUÊNCIA (COMO UMA LISTA OU UMA STRING) E OBTER TANTO O ÍNDICE QUANTO O VALOR DO ITEM. ISSO É ÚTIL QUANDO VOCÊ PRECISA DO ÍNDICE DO ITEM DURANTE A ITERAÇÃO. \\n\\nPROPÓSITO : enumerate é usado para obter tanto o índice quanto o valor dos itens em uma sequência.\\nUSO : Use enumerate quando você precisa do índice e do valor dos itens em uma sequência.\\n'"
      ]
     },
     "execution_count": 9,
     "metadata": {},
     "output_type": "execute_result"
    }
   ],
   "source": [
    "# preco de cada produto com imposto\n",
    "for i, preco in enumerate(precos):\n",
    "    print(preco *1.1)\n",
    "    print(i)\n",
    "\n",
    "'''\n",
    "SE PRECISAR DOS ÍNDICES E DOS VALORES, PODE USAR enumerate()\n",
    "A FUNÇÃO enumerate É USADA PARA ITERAR SOBRE UMA SEQUÊNCIA (COMO UMA LISTA OU UMA STRING) E OBTER TANTO O ÍNDICE QUANTO O VALOR DO ITEM. ISSO É ÚTIL QUANDO VOCÊ PRECISA DO ÍNDICE DO ITEM DURANTE A ITERAÇÃO. \n",
    "\n",
    "PROPÓSITO : enumerate é usado para obter tanto o índice quanto o valor dos itens em uma sequência.\n",
    "USO : Use enumerate quando você precisa do índice e do valor dos itens em uma sequência.\n",
    "'''"
   ]
  },
  {
   "cell_type": "code",
   "execution_count": null,
   "id": "827fc0d0",
   "metadata": {},
   "outputs": [],
   "source": []
  }
 ],
 "metadata": {
  "kernelspec": {
   "display_name": "Python 3",
   "language": "python",
   "name": "python3"
  },
  "language_info": {
   "codemirror_mode": {
    "name": "ipython",
    "version": 3
   },
   "file_extension": ".py",
   "mimetype": "text/x-python",
   "name": "python",
   "nbconvert_exporter": "python",
   "pygments_lexer": "ipython3",
   "version": "3.11.9"
  }
 },
 "nbformat": 4,
 "nbformat_minor": 5
}
