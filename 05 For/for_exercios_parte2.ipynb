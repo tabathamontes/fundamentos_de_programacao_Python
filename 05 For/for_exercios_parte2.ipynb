{
 "cells": [
  {
   "cell_type": "markdown",
   "metadata": {},
   "source": [
    "# Exercícios\n",
    "\n",
    "## 1. Calculando % de uma lista\n",
    "\n",
    "Faremos algo parecido com \"filtrar\" uma lista. Mais pra frente no curso aprenderemos outras formas de fazer isso, mas com o nosso conhecimentoa atual já conseguimos resolver o desafio.\n",
    "\n",
    "Digamos que a gente tenha uma lista de vendedores e ao invés de saber todos os vendedores que bateram a meta, eu quero conseguir calcular o % de vendedores que bateram a meta. Ou seja, se temos 10 vendedores e 3 bateram a meta, temos 30% dos vendedores que bateram a meta."
   ]
  },
  {
   "cell_type": "code",
   "execution_count": 76,
   "metadata": {},
   "outputs": [
    {
     "name": "stdout",
     "output_type": "stream",
     "text": [
      "Os vendedores que bateram a meta foram: [['João', 15000], ['Julia', 27000], ['Ana', 10300]]\n",
      "50.0% dos vendedores bateram a meta.\n"
     ]
    }
   ],
   "source": [
    "meta = 10000\n",
    "vendas = [\n",
    "    ['João', 15000],\n",
    "    ['Julia', 27000],\n",
    "    ['Marcus', 9900],\n",
    "    ['Maria', 3750],\n",
    "    ['Ana', 10300],\n",
    "    ['Alon', 7870],\n",
    "]\n",
    "\n",
    "bateu_meta = []\n",
    "\n",
    "for item in vendas:\n",
    "    if item[1] >= meta:\n",
    "        bateu_meta.append(item)\n",
    "\n",
    "percentual =  (len(bateu_meta) /len(vendas) )  *100   #ou 100/6 *3\n",
    "        \n",
    "print(f'Os vendedores que bateram a meta foram: {bateu_meta}')\n",
    "print(f'{percentual:.1f}% dos vendedores bateram a meta.')\n"
   ]
  },
  {
   "cell_type": "markdown",
   "metadata": {},
   "source": [
    "- Vamos resolver de 2 formas:\n",
    "    1. Criando uma lista auxiliar apenas com os vendedores que bateram a meta\n",
    "    2. Fazendo o cálculo diretamente na lista que já temos"
   ]
  },
  {
   "cell_type": "markdown",
   "metadata": {},
   "source": [
    "## Para treinar uma estrutura parecida, crie um código para responder: quem foi o vendedor que mais vendeu?"
   ]
  },
  {
   "cell_type": "code",
   "execution_count": 83,
   "metadata": {},
   "outputs": [
    {
     "name": "stdout",
     "output_type": "stream",
     "text": [
      "O vendedor que mais vendeu foi Julia com 27000 vendas.\n"
     ]
    }
   ],
   "source": [
    "'''\n",
    "vendeu_mais = max(bateu_meta)\n",
    "print(f'O vendedor que mais vendeu foi {vendeu_mais[0]} com {vendeu_mais[1]} vendas.')\n",
    "'''\n",
    "#OUTRA FORMA:\n",
    "\n",
    "melhor_vendedor = ''\n",
    "maior_venda = 0\n",
    "\n",
    "for venda in vendas:\n",
    "    if venda[1] > maior_venda:\n",
    "        maior_venda = venda[1]\n",
    "        melhor_vendedor = venda[0]\n",
    "print(f'O vendedor que mais vendeu foi {melhor_vendedor} com {maior_venda} vendas.')\n"
   ]
  }
 ],
 "metadata": {
  "kernelspec": {
   "display_name": "Python 3",
   "language": "python",
   "name": "python3"
  },
  "language_info": {
   "codemirror_mode": {
    "name": "ipython",
    "version": 3
   },
   "file_extension": ".py",
   "mimetype": "text/x-python",
   "name": "python",
   "nbconvert_exporter": "python",
   "pygments_lexer": "ipython3",
   "version": "3.11.9"
  }
 },
 "nbformat": 4,
 "nbformat_minor": 4
}
