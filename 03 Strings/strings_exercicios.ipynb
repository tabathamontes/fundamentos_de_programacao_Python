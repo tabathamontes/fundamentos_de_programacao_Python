{
 "cells": [
  {
   "cell_type": "markdown",
   "id": "2b04bbea",
   "metadata": {},
   "source": [
    "# Strings\n",
    "\n",
    "<span style=\"color: red;\"><b>Todos os exercícios são feitos partindo-se do pressuposto de que todas as entradas são dadas de forma correta. Casos limite não mencionados no enunciado não são abordados porque não fazem parte do exercício.</b></span>"
   ]
  },
  {
   "cell_type": "markdown",
   "id": "5b1f33b9",
   "metadata": {},
   "source": [
    "#### 1. Tamanho de strings. Faça um programa que leia 2 strings e informe o conteúdo delas seguido do seu comprimento. Informe também se as duas strings possuem o mesmo comprimento e são iguais ou diferentes no conteúdo.\n",
    "<pre>\n",
    "Compara duas strings\n",
    "String 1: Brasil Hexa 2006\n",
    "String 2: Brasil! Hexa 2006!\n",
    "Tamanho de \"Brasil Hexa 2006\": 16 caracteres\n",
    "Tamanho de \"Brasil! Hexa 2006!\": 18 caracteres\n",
    "As duas strings são de tamanhos diferentes.\n",
    "As duas strings possuem conteúdo diferente.\n",
    "</pre>"
   ]
  },
  {
   "cell_type": "code",
   "execution_count": 22,
   "id": "c492b657",
   "metadata": {},
   "outputs": [
    {
     "name": "stdout",
     "output_type": "stream",
     "text": [
      "Tamanho de \"Brasil Hexa 2006\": 16 caracteres.\n",
      "Tamanho de \"Brasil Hexa 2006\": 16 caracteres.\n",
      "As strings \"Brasil Hexa 2006\" e \"Brasil Hexa 2007\" possuem o mesmo tamanho.\n",
      "As duas strings possuem conteúdo diferente.\n"
     ]
    }
   ],
   "source": [
    "string1 = input('Escreva alguma coisa:')\n",
    "string2 = input('Escreva outra coisa:')\n",
    "\n",
    "print(f'Tamanho de \"{string1}\": {len(string1)} caracteres.')\n",
    "print(f'Tamanho de \"{string1}\": {len(string2)} caracteres.')\n",
    "\n",
    "if len(string1) == len(string2):\n",
    "    print(f'As strings \"{string1}\" e \"{string2}\" possuem o mesmo tamanho.')\n",
    "else:\n",
    "    print(f'As strings  \"{string1}\" e \"{string2}\" são de tamanhos diferentes.')\n",
    "\n",
    "if string1 == string2:\n",
    "    print('As duas strings são de tamanhos diferentes.') \n",
    "else:\n",
    "    print('As duas strings possuem conteúdo diferente.')\n"
   ]
  },
  {
   "cell_type": "markdown",
   "id": "c3068a53",
   "metadata": {},
   "source": [
    "#### 2. Valida e corrige número de telefone. Faça um programa que leia um número de telefone, e corrija o número no caso deste conter somente 7 dígitos, acrescentando o '3' na frente. O usuário pode informar o número com ou sem o traço separador.\n",
    "<pre>\n",
    "Valida e corrige número de telefone\n",
    "Telefone: 461-0133\n",
    "Telefone possui 7 dígitos. Vou acrescentar o digito três na frente.\n",
    "Telefone corrigido sem formatação: 34610133\n",
    "Telefone corrigido com formatação: 3461-0133\n",
    "</pre>"
   ]
  },
  {
   "cell_type": "code",
   "execution_count": 36,
   "id": "0308566d",
   "metadata": {},
   "outputs": [
    {
     "name": "stdout",
     "output_type": "stream",
     "text": [
      "Telefone: 461-0133\n",
      "Telefone: 4610133\n",
      "Telefone possui 7 dígitos. Vou acrescentar o digito três na frente.\n",
      "Telefone corrigido sem formatação: 34610133\n",
      "Telefone corrigido com formatação: 3461-0133\n"
     ]
    }
   ],
   "source": [
    "num = input('Número de telefone:')\n",
    "print(f'Telefone: {num}')\n",
    "num = num.replace('-','')\n",
    "print(f'Telefone: {num}')\n",
    "if len(num) == 7:\n",
    "    print(f'Telefone possui 7 dígitos. Vou acrescentar o digito três na frente.')\n",
    "\n",
    "    num = '3' + num\n",
    "    \n",
    "    print(f'Telefone corrigido sem formatação: {num}')\n",
    "    print(f'Telefone corrigido com formatação: {num[:4]}-{num[4:]}')\n",
    "\n",
    "elif len(num) < 7:\n",
    "    print('Telefone não tem 7 dígitos.')\n",
    "\n",
    "else:\n",
    "    print('Número correto!')"
   ]
  }
 ],
 "metadata": {
  "kernelspec": {
   "display_name": "Python 3 (ipykernel)",
   "language": "python",
   "name": "python3"
  },
  "language_info": {
   "codemirror_mode": {
    "name": "ipython",
    "version": 3
   },
   "file_extension": ".py",
   "mimetype": "text/x-python",
   "name": "python",
   "nbconvert_exporter": "python",
   "pygments_lexer": "ipython3",
   "version": "3.11.9"
  }
 },
 "nbformat": 4,
 "nbformat_minor": 5
}
