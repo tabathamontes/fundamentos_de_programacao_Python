{
 "cells": [
  {
   "cell_type": "markdown",
   "id": "8535c274",
   "metadata": {
    "id": "8535c274"
   },
   "source": [
    "# Estruturas de decisão\n",
    "\n",
    "<span style=\"color: red;\"><b>Todos os exercícios são feitos partindo-se do pressuposto de que todas as entradas são dadas de forma correta. Casos limite não mencionados no enunciado não são abordados porque não fazem parte do exercício.</b></span>"
   ]
  },
  {
   "cell_type": "markdown",
   "id": "9c3d817e",
   "metadata": {
    "id": "9c3d817e"
   },
   "source": [
    "#### 1. Faça um Programa que peça dois números e imprima o maior deles."
   ]
  },
  {
   "cell_type": "code",
   "execution_count": 6,
   "id": "ae45c028",
   "metadata": {
    "id": "ae45c028"
   },
   "outputs": [
    {
     "name": "stdout",
     "output_type": "stream",
     "text": [
      "O número 30.0 é maior que o número 10.0.\n"
     ]
    }
   ],
   "source": [
    "num1 = float(input('Digite o primeiro valor: '))\n",
    "num2 = float(input('Digite o segundo valor: '))\n",
    "\n",
    "if num1 > num2:\n",
    "    print(f'O número {num1} é maior que o número {num2}.')\n",
    "elif num1 < num2:\n",
    "     print(f'O número {num2} é maior que o número {num1}.')   \n",
    "else: \n",
    "     print(f'Os números {num1} e {num2} são iguais.')   "
   ]
  },
  {
   "cell_type": "markdown",
   "id": "ff510803",
   "metadata": {
    "id": "ff510803"
   },
   "source": [
    "#### 2. Faça um Programa que peça um valor e mostre na tela se o valor é positivo ou negativo."
   ]
  },
  {
   "cell_type": "code",
   "execution_count": 7,
   "id": "8952f58f",
   "metadata": {
    "id": "8952f58f"
   },
   "outputs": [
    {
     "name": "stdout",
     "output_type": "stream",
     "text": [
      "O número 15.0 é POSITIVO.\n"
     ]
    }
   ],
   "source": [
    "num = float(input('Digite um número: '))\n",
    "\n",
    "if num > 0:\n",
    "    print(f'O número {num} é POSITIVO.')\n",
    "elif num < 0: \n",
    "     print(f'O número {num} é NEGATIVO.') \n",
    "else:  \n",
    "    print(f'O númer é ZERO.')"
   ]
  },
  {
   "cell_type": "markdown",
   "id": "6966546b",
   "metadata": {
    "id": "6966546b"
   },
   "source": [
    "#### 3. Faça um Programa que verifique o estado civil de uma pessoa. Se a letra digitada é \"C\" (Casado), \"S\" (Solteiro), \"D\" (Divorciado), \"V\" (Viúvo) ou \"O\" (outros). Conforme a letra escrita pelo usuário seu programa deve escrever o estado civil, exemplo:\n",
    "\n",
    "Usuário digita: C\n",
    "\n",
    "Seu programa deve responder:\n",
    "C - Casado"
   ]
  },
  {
   "cell_type": "code",
   "execution_count": 58,
   "id": "876a1e67",
   "metadata": {
    "id": "876a1e67"
   },
   "outputs": [
    {
     "name": "stdout",
     "output_type": "stream",
     "text": [
      "C - Viúvo\n"
     ]
    }
   ],
   "source": [
    "estado_civil = input('Qual é o seu estado civil? ') \n",
    "if  estado_civil == 'C': \n",
    "    print('C - Casado') \n",
    "elif estado_civil == 'S' :\n",
    "    print('S - Solteiro')\n",
    "elif estado_civil == 'D': \n",
    "    print('D - Divorciado') \n",
    "elif estado_civil == 'V': \n",
    "    print('C - Viúvo') \n",
    "elif estado_civil == 'O': \n",
    "    print('O - Outros')"
   ]
  },
  {
   "cell_type": "markdown",
   "id": "c122c0cf",
   "metadata": {
    "id": "c122c0cf"
   },
   "source": [
    "#### 4. Faça um Programa que verifique se o e-mail digitado faz parte dos e-mails de spam."
   ]
  },
  {
   "cell_type": "code",
   "execution_count": 6,
   "id": "59bed184",
   "metadata": {
    "id": "59bed184"
   },
   "outputs": [
    {
     "name": "stdout",
     "output_type": "stream",
     "text": [
      "Email válido.\n"
     ]
    }
   ],
   "source": [
    "emails_spam = \"fulano@gmail.com,beltrano@gmail.com,ciclano@gmail.com\"\n",
    "email = input('Informe o email: ')\n",
    "\n",
    "if email in emails_spam:\n",
    "    print('Esse email é um spam')\n",
    "else:\n",
    "    print('Email válido.')\n"
   ]
  },
  {
   "cell_type": "markdown",
   "id": "487ee073",
   "metadata": {
    "id": "487ee073"
   },
   "source": [
    "#### 5. Faça um programa para a leitura de duas notas parciais de um aluno. O programa deve calcular a média alcançada por aluno e apresentar:\n",
    "\n",
    "##### A mensagem \"Aprovado\", se a média alcançada for maior ou igual a sete;\n",
    "##### A mensagem \"Reprovado\", se a média for menor do que sete;\n",
    "##### A mensagem \"Aprovado com Distinção\", se a média for igual a dez."
   ]
  },
  {
   "cell_type": "code",
   "execution_count": 9,
   "id": "7f5c7096",
   "metadata": {
    "id": "7f5c7096"
   },
   "outputs": [
    {
     "name": "stdout",
     "output_type": "stream",
     "text": [
      "Aprovado!!!\n"
     ]
    }
   ],
   "source": [
    "nota1 = float(input('Nota 1:'))\n",
    "nota2 =float(input('Nota 2:'))\n",
    "media = (nota1 + nota2) /2\n",
    "\n",
    "if media >= 7 and media <= 9:\n",
    "    print('Aprovado!!!')\n",
    "elif media <7:\n",
    "     print('Reprovado!!!')\n",
    "else: \n",
    "      print('Aprovado com Distinção!!!')    "
   ]
  },
  {
   "cell_type": "markdown",
   "id": "6dd3f171",
   "metadata": {
    "id": "6dd3f171"
   },
   "source": [
    "#### 6. Faça um Programa que leia o orçamento de 3 empresas e mostre o maior deles."
   ]
  },
  {
   "cell_type": "code",
   "execution_count": 25,
   "id": "51b591e5",
   "metadata": {
    "id": "51b591e5"
   },
   "outputs": [
    {
     "name": "stdout",
     "output_type": "stream",
     "text": [
      "O segundo orçamento de R$15.0 é o maior.\n"
     ]
    }
   ],
   "source": [
    "orcamento1 = float(input('Digite o primeiro orçamento :R$'))\n",
    "orcamento2 = float(input('Digite o segundo orçamento :R$'))\n",
    "orcamento3 = float(input('Digite o terceiro orçamento :R$'))\n",
    "\n",
    "if orcamento1 > orcamento2 and orcamento1 > orcamento3:\n",
    "    print(f'O primeiro orçamento de {orcamento1} é o maior.')\n",
    "\n",
    "elif orcamento2 > orcamento1 and orcamento2 > orcamento3:\n",
    "    print(f'O segundo orçamento de R${orcamento2} é o maior.')\n",
    "\n",
    "else:\n",
    "     print(f'O terceiro orçamento de R${orcamento3} é o maior.')   "
   ]
  },
  {
   "cell_type": "markdown",
   "id": "ce09ed1c",
   "metadata": {
    "id": "ce09ed1c"
   },
   "source": [
    "#### 7. Faça um Programa que leia três orçamentos e mostre o maior e o menor deles."
   ]
  },
  {
   "cell_type": "code",
   "execution_count": 26,
   "id": "249f1eb8",
   "metadata": {
    "id": "249f1eb8"
   },
   "outputs": [
    {
     "name": "stdout",
     "output_type": "stream",
     "text": [
      "O terceiro orçamento de R$12.0 é o maior.\n",
      "O primeiro orçamento de 10.0 é o menor.\n"
     ]
    }
   ],
   "source": [
    "orcamento1 = float(input('Digite o primeiro orçamento :R$'))\n",
    "orcamento2 = float(input('Digite o segundo orçamento :R$'))\n",
    "orcamento3 = float(input('Digite o terceiro orçamento :R$'))\n",
    "\n",
    "if orcamento1 > orcamento2 and orcamento1 > orcamento3:\n",
    "    print(f'O primeiro orçamento de {orcamento1} é o maior.')\n",
    "\n",
    "elif orcamento2 > orcamento1 and orcamento2 > orcamento3:\n",
    "    print(f'O segundo orçamento de R${orcamento2} é o maior.')\n",
    "\n",
    "else:\n",
    "     print(f'O terceiro orçamento de R${orcamento3} é o maior.')   \n",
    "\n",
    "\n",
    "if orcamento1 < orcamento2 and orcamento1 < orcamento3:\n",
    "    print(f'O primeiro orçamento de {orcamento1} é o menor.')\n",
    "\n",
    "elif orcamento2 < orcamento1 and orcamento2 < orcamento3:\n",
    "    print(f'O segundo orçamento de R${orcamento2} é o menor.')\n",
    "\n",
    "else:\n",
    "     print(f'O terceiro orçamento de R${orcamento3} é o menor.')  "
   ]
  },
  {
   "cell_type": "markdown",
   "id": "7453d43a",
   "metadata": {
    "id": "7453d43a"
   },
   "source": [
    "#### 8. Faça um programa que pergunte o preço de três produtos e informe qual produto você deve comprar, sabendo que a decisão é sempre pelo mais barato."
   ]
  },
  {
   "cell_type": "code",
   "execution_count": 32,
   "id": "26a9503e",
   "metadata": {
    "id": "26a9503e"
   },
   "outputs": [
    {
     "name": "stdout",
     "output_type": "stream",
     "text": [
      "O produto no valor de R$1.25 é o mais barato.\n"
     ]
    }
   ],
   "source": [
    "produto1 = float(input('Qual é o valor do primeiro produto :R$'))\n",
    "produto2 = float(input('Qual é o valor do segundo produto :R$'))\n",
    "produto3 = float(input('Qual é o valor do terceiro produto :R$'))\n",
    "\n",
    "if produto1 < produto2 and produto1 < produto3:\n",
    "    print(f'O primeiro produto no valor de R${produto1} é o mais barato.')\n",
    "\n",
    "elif produto2 < produto1 and produto2 < produto3:\n",
    "    print(f'O segundo produto no valor de R${produto2} é o mais barato.')\n",
    "\n",
    "elif produto3 < produto1 and produto3 < produto2:\n",
    "    print(f'O terceiro produto no valor de R${produto3} é o mais barato.')    "
   ]
  },
  {
   "cell_type": "markdown",
   "id": "9ade258f",
   "metadata": {
    "id": "9ade258f"
   },
   "source": [
    "#### 9. Faça um Programa que leia três números e mostre-os em ordem decrescente."
   ]
  },
  {
   "cell_type": "code",
   "execution_count": 10,
   "id": "f194c39e",
   "metadata": {
    "id": "f194c39e"
   },
   "outputs": [
    {
     "name": "stdout",
     "output_type": "stream",
     "text": [
      "Você digitou os números: 2.0 - 1.0 - 1.0\n",
      "Os números que você escolheu em ordem decrescente: 2.0 - 1.0 - 1.0\n"
     ]
    }
   ],
   "source": [
    "numero1 = float(input('Primeiro número: '))\n",
    "numero2 = float(input('Segundo número: '))\n",
    "numero3 = float(input('Terceiro número: '))\n",
    "\n",
    "print(f'Você digitou os números: {numero1} - {numero2} - {numero3}')\n",
    "\n",
    "if numero1 == numero2 and numero1 == numero3:\n",
    "    print(f'Os números são iguais')\n",
    "elif numero2 == numero1 and numero2 == numero3:\n",
    "    print(f'Os números são iguais')\n",
    "\n",
    "else:\n",
    "    if numero1 > numero2 and numero1 > numero3:\n",
    "        maior = numero1\n",
    "        if numero2 > numero3:\n",
    "            medio = numero2\n",
    "            menor = numero3  \n",
    "\n",
    "        else:\n",
    "            medio = numero3 \n",
    "            menor = numero2  \n",
    "\n",
    "    \n",
    "    elif numero2 > numero1 and numero2 > numero3:\n",
    "        maior = numero2\n",
    "        if numero1 > numero3:\n",
    "            medio = numero1\n",
    "            menor = numero3  \n",
    "        else:\n",
    "            medio = numero1\n",
    "            menor = numero3\n",
    "\n",
    "\n",
    "    elif numero3 > numero1 and numero3 > numero2:\n",
    "        maior = numero3\n",
    "        if numero1 > numero2 :\n",
    "            medio = numero1\n",
    "            menor = numero2\n",
    "        else:\n",
    "            medio = numero2\n",
    "            menor = numero1\n",
    "\n",
    "\n",
    "    print(f'Os números que você escolheu em ordem decrescente: {maior} - {medio} - {menor}')\n",
    "\n"
   ]
  },
  {
   "cell_type": "markdown",
   "id": "d06e2fe8",
   "metadata": {
    "id": "d06e2fe8"
   },
   "source": [
    "#### 10. Faça um Programa que pergunte em que turno você estuda. Peça para digitar M-matutino ou V-Vespertino ou N- Noturno. Imprima a mensagem \"Bom Dia!\", \"Boa Tarde!\" ou \"Boa Noite!\" ou \"Valor Inválido!\", conforme o caso."
   ]
  },
  {
   "cell_type": "code",
   "execution_count": 4,
   "id": "1eb36141",
   "metadata": {
    "id": "1eb36141"
   },
   "outputs": [
    {
     "name": "stdout",
     "output_type": "stream",
     "text": [
      "Bom Dia!\n"
     ]
    }
   ],
   "source": [
    "turno = input('Qual é o turno que você estuda? [M]-Matutino / [V]-Vespertino / [N]-Noturno')\n",
    "\n",
    "if turno == 'M':\n",
    "    print('Bom Dia!')\n",
    "elif turno == 'V':\n",
    "    print('Boa Tarde!')\n",
    "elif turno == 'N':\n",
    "    print('Boa Noite!')\n",
    "else:\n",
    "    print('Valor Inválido!')"
   ]
  },
  {
   "cell_type": "markdown",
   "id": "4864b755",
   "metadata": {
    "id": "4864b755"
   },
   "source": [
    "#### 11. As Organizações Tabajara resolveram dar um aumento de salário aos seus colaboradores e lhe contraram para desenvolver o programa que calculará os reajustes. Faça um programa que recebe o salário de um colaborador e o reajuste segundo o seguinte critério, baseado no salário atual:\n",
    "\n",
    "##### salários até R\\\\$ 280,00 (incluindo) : aumento de 20% \n",
    "\n",
    "##### salários entre R\\\\$ 280,00 e R\\\\$ 700,00 : aumento de 15% \n",
    "\n",
    "##### salários entre R\\\\$ 700,00 e R\\\\$ 1500,00 : aumento de 10% \n",
    "\n",
    "##### salários de R\\\\$ 1500,00 em diante : aumento de 5% Após o aumento ser realizado, informe na tela: \n",
    "\n",
    "###### o salário antes do reajuste;\n",
    "\n",
    "###### o percentual de aumento aplicado;\n",
    "\n",
    "###### o valor do aumento;\n",
    "\n",
    "###### o novo salário, após o aumento.\n",
    "\n",
    "###### Obs: Não vamos nos preocupar tanto com a formatação dos números (nº de casas decimais, por exemplo, veremos isso no próximo módulo)"
   ]
  },
  {
   "cell_type": "code",
   "execution_count": 19,
   "id": "f0d34916",
   "metadata": {
    "id": "f0d34916"
   },
   "outputs": [
    {
     "name": "stdout",
     "output_type": "stream",
     "text": [
      "O salário sem reajuste era R$750.00\n",
      "O percentual aplicado foi de 10.0%\n",
      "O valor do aumento foi de 75.00\n",
      "O salário agora passa a ser de R$825.00\n"
     ]
    }
   ],
   "source": [
    "salario = float(input('Informe o salário: R$'))\n",
    "\n",
    "if salario <= 280:\n",
    "    percentual = 0.20\n",
    "elif salario <= 700:\n",
    "    percentual = 0.15\n",
    "elif salario <= 1500:\n",
    "    percentual = 0.10\n",
    "else:\n",
    "    percentual = 0.05\n",
    "            \n",
    "novo_salario = salario + (salario * percentual) #ou novo_salario = salario * (1 + percentual)\n",
    "aumento = novo_salario - salario\n",
    "\n",
    "\n",
    "print(f'O salário sem reajuste era R${salario:.2f}')\n",
    "print(f'O percentual aplicado foi de {percentual*100}%')\n",
    "print(f'O valor do aumento foi de {aumento:.2f}')\n",
    "print(f'O salário agora passa a ser de R${novo_salario:.2f}')"
   ]
  },
  {
   "cell_type": "markdown",
   "id": "b037f1e8",
   "metadata": {
    "id": "b037f1e8"
   },
   "source": [
    "#### 12 . Faça um programa para o cálculo de uma folha de pagamento, sabendo que os descontos são do Imposto de Renda, que depende do salário bruto (conforme tabela abaixo) e que o FGTS corresponde a 11% do Salário Bruto, mas não é descontado (é a empresa que deposita). O Salário Líquido corresponde ao Salário Bruto menos os descontos. O programa deverá pedir ao usuário o valor da sua hora e a quantidade de horas trabalhadas no mês.\n",
    "\n",
    "Desconto do IR:<br>\n",
    "Salário Bruto até 900 (inclusive) - isento<br>\n",
    "Salário Bruto até 1500 (inclusive) - desconto de 5%<br>\n",
    "Salário Bruto até 2500 (inclusive) - desconto de 10%<br>\n",
    "Salário Bruto acima de 2500 - desconto de 20%<br>\n",
    "Imprima na tela as informações, dispostas conforme o exemplo abaixo. No exemplo o valor da hora é 5 e a quantidade de hora é 220.\n",
    "\n",
    "Salário Bruto: (5 * 220)        : R\\\\$ 1100,00<br>\n",
    "(-) IR (5%)                     : R\\\\$   55,00<br>\n",
    "(-) INSS ( 10%)                 : R\\\\$  110,00<br>\n",
    "FGTS (11%)                      : R\\\\$  121,00<br>\n",
    "Total de descontos              : R\\\\$  165,00<br>\n",
    "Salário Liquido                 : R\\\\$  935,00<br>\n",
    "\n",
    "###### Obs: Não vamos nos preocupar tanto com a formatação dos números (nº de casas decimais, por exemplo, veremos isso no próximo módulo)"
   ]
  },
  {
   "cell_type": "code",
   "execution_count": 25,
   "id": "dad18bb2",
   "metadata": {
    "id": "dad18bb2"
   },
   "outputs": [
    {
     "name": "stdout",
     "output_type": "stream",
     "text": [
      "Salário Bruto: 160 * 80.00 = R$12800.00\n",
      "(-)IR (20.0%): R$2560.00\n",
      "(-)INSS (10%): R$1280.00\n",
      "FGTS (11%): R$1408.00\n",
      "Total de descontos: R$3840.00\n",
      "Salário Liquido: R$8960.00\n"
     ]
    }
   ],
   "source": [
    "valor_hora = float(input('Valor da hora R$:'))\n",
    "horas_trabalhadas = float(input('Horas trabalhadas: '))\n",
    "salario = valor_hora * horas_trabalhadas\n",
    "\n",
    "                    \n",
    "if salario <= 900:\n",
    "    percentual = 0\n",
    "elif salario <= 1500:\n",
    "    percentual = 0.05\n",
    "elif salario <= 2500:\n",
    "    percentual = 0.10\n",
    "else:\n",
    "    percentual = 0.20\n",
    "\n",
    "ir = percentual * salario \n",
    "inss = 0.10 * salario\n",
    "fgts = 0.11 * salario\n",
    "totas_desconto = ir + inss\n",
    "salario_liquido = salario - totas_desconto\n",
    "\n",
    "print(f'Salário Bruto: {horas_trabalhadas:.0f} * {valor_hora:.2f} = R${salario:.2f}')\n",
    "print(f'(-)IR ({percentual * 100}%): R${ir:.2f}')\n",
    "print(f'(-)INSS (10%): R${inss:.2f}')\n",
    "print(f'FGTS (11%): R${fgts:.2f}')\n",
    "print(f'Total de descontos: R${totas_desconto:.2f}') \n",
    "print(f'Salário Liquido: R${salario_liquido:.2f}')           \n",
    "                                                "
   ]
  },
  {
   "cell_type": "markdown",
   "id": "814fc211",
   "metadata": {
    "id": "814fc211"
   },
   "source": [
    "#### 13. Faça um Programa que leia um número e exiba o dia correspondente da semana. (1-Domingo, 2- Segunda, etc.), se digitar outro valor deve aparecer valor inválido."
   ]
  },
  {
   "cell_type": "code",
   "execution_count": 27,
   "id": "f2c2b8d8",
   "metadata": {
    "id": "f2c2b8d8"
   },
   "outputs": [
    {
     "name": "stdout",
     "output_type": "stream",
     "text": [
      "Valor inválido\n"
     ]
    }
   ],
   "source": [
    "num = int(input('Escolha um número correspondente ao dia da semana:'))\n",
    "\n",
    "if num == 1:\n",
    "   print('Domingo')\n",
    "elif num == 2:    \n",
    "   print('Segunda')\n",
    "elif num == 3:    \n",
    "   print('Terça')\n",
    "elif num == 4:    \n",
    "   print('Quarta')\n",
    "elif num == 5:    \n",
    "   print('Quinta')\n",
    "elif num == 6:    \n",
    "   print('Sexta')\n",
    "elif num == 6:    \n",
    "   print('Sabado')\n",
    "else:\n",
    "   print('Valor inválido')"
   ]
  },
  {
   "cell_type": "markdown",
   "id": "6e5f461e",
   "metadata": {
    "id": "6e5f461e"
   },
   "source": [
    "#### 14. Faça um programa que lê as duas notas parciais obtidas por um aluno numa disciplina ao longo de um semestre, e calcule a sua média. Em seguida, mostre qual conceito o aluno teve. A atribuição de conceitos obedece à tabela abaixo:\n",
    "<pre>\n",
    "Média de Aproveitamento  Conceito\n",
    "Entre 9.0 e 10.0        A\n",
    "Entre 7.5 e 9.0         B\n",
    "Entre 6.0 e 7.5         C\n",
    "Entre 4.0 e 6.0         D\n",
    "Entre 4.0 e zero        E\n",
    "</pre>"
   ]
  },
  {
   "cell_type": "code",
   "execution_count": 12,
   "id": "29721a43",
   "metadata": {
    "id": "29721a43"
   },
   "outputs": [
    {
     "name": "stdout",
     "output_type": "stream",
     "text": [
      "O aluno teve uma média de nota 9.65 no semestre.\n",
      "Com conceito A.\n"
     ]
    }
   ],
   "source": [
    "nota1 = float(input('Nota 1:'))\n",
    "nota2 = float(input('Nota 2:'))\n",
    "media = (nota1 + nota2) / 2\n",
    "\n",
    "if media > 9.0:\n",
    "    conceito = 'A'\n",
    "elif media > 7.5:\n",
    "    conceito = 'B'\n",
    "elif media > 6.0:\n",
    "    conceito = 'C'\n",
    "elif media > 4.0:\n",
    "    conceito = 'D'\n",
    "else:\n",
    "    conceito = 'E' \n",
    "\n",
    "print(f'O aluno teve uma média de nota {media:.2f} no semestre.\\n'f'Com conceito {conceito}.')          \n"
   ]
  },
  {
   "cell_type": "markdown",
   "id": "e6b3bcaf",
   "metadata": {
    "id": "e6b3bcaf"
   },
   "source": [
    "#### 15. Você está construindo um calendário para controlar dias de trabalho a pedido do RH. Nessa construção, você vai precisar definir quais anos são bissextos e quais não são, para montar o calendário de forma correta. Faça um Programa que peça um número correspondente a um determinado ano e em seguida informe se este ano é ou não bissexto.\n",
    "<pre>\n",
    "Dica para determinar se um ano é bissexto: \n",
    "- São bissextos todos os anos múltiplos de 400, p.ex.: 1600, 2000, 2400, 2800...\n",
    "- São bissextos todos os múltiplos de 4, exceto se for múltiplo de 100 mas não de 400, \n",
    "p.ex.: 1996, 2000, 2004, 2008, 2012, 2016, 2020, 2024, 2028...\n",
    "- Não são bissextos todos os demais anos.<br>\n",
    "ex1: 2004 é múltiplo de 4, mas não é múltiplo de 100, então é bissexto.\n",
    "ex2: 2000 é múltiplo de 4, mas é múltiplo de 100, só que também é multiplo de 400, então é bissexto (porque todo ano múltiplo de 400 é bissexto, independente do resto).\n",
    "ex3: 1900 é múltiplo de 4, é múltiplo de 100, mas não é múltiplo de 400, então não é bissexto\n",
    "\n",
    "</pre>\n",
    "\n",
    "Dica: lembre que: numero % 4 é o resto da divisão do número por 4, ex: 10 % 3 = 1 (já que 10/3 = 3 e resta 1)\n"
   ]
  },
  {
   "cell_type": "code",
   "execution_count": 23,
   "id": "56af223f",
   "metadata": {
    "id": "56af223f"
   },
   "outputs": [
    {
     "name": "stdout",
     "output_type": "stream",
     "text": [
      "O ano 1990 Não é Bissexto.\n"
     ]
    }
   ],
   "source": [
    "ano = int(input('Ano: '))\n",
    "\n",
    "if (ano % 400 == 0 ) or (ano % 4 == 0 and ano % 100 != 0) :\n",
    "    print(f'O ano {ano} é Bissexto.')\n",
    "\n",
    "else:\n",
    "    print(f'O ano {ano} Não é Bissexto.') \n",
    "          "
   ]
  },
  {
   "cell_type": "markdown",
   "id": "9fe532c8",
   "metadata": {
    "id": "9fe532c8"
   },
   "source": [
    "#### 16. Faça um Programa para leitura de três notas parciais de um aluno. O programa deve calcular a média alcançada por aluno e presentar:\n",
    "<pre>\n",
    "A mensagem \"Aprovado\", se a média for maior ou igual a 7, com a respectiva média alcançada;\n",
    "A mensagem \"Reprovado\", se a média for menor do que 7, com a respectiva média alcançada;\n",
    "A mensagem \"Aprovado com Distinção\", se a média for igual a 10.\n",
    "</pre>"
   ]
  },
  {
   "cell_type": "code",
   "execution_count": 32,
   "id": "1a56e99f",
   "metadata": {
    "id": "1a56e99f"
   },
   "outputs": [
    {
     "name": "stdout",
     "output_type": "stream",
     "text": [
      "O aluno teve média de 9.50 e foi Aprovado!\n"
     ]
    }
   ],
   "source": [
    "nota1 = float(input('Nota 1:'))\n",
    "nota2 = float(input('Nota 2:'))\n",
    "nota3 = float(input('Nota 3:'))\n",
    "\n",
    "media = (nota1 + nota2 + nota3) / 3\n",
    "\n",
    "if media == 10:\n",
    "    status = 'Aprovado com Distinção'\n",
    "elif media >= 7:\n",
    "    status = 'Aprovado'\n",
    "else:\n",
    "    status = 'Reprovado'  \n",
    "\n",
    "print(f'O aluno teve média de {media:.2f} e foi {status}!')"
   ]
  },
  {
   "cell_type": "markdown",
   "id": "d544412e",
   "metadata": {
    "id": "d544412e"
   },
   "source": [
    "#### 17. João Papo-de-Pescador, homem de bem, comprou um microcomputador para controlar o rendimento diário de seu trabalho. Toda vez que ele traz um peso de peixes maior que o estabelecido pelo regulamento de pesca do estado de São Paulo (50 quilos) deve pagar uma multa de R$ 4,00 por quilo excedente. João precisa que você faça um programa que leia a variável peso (peso de peixes) e calcule o excesso. Gravar na variável excesso a quantidade de quilos além do limite e na variável multa o valor da multa que João deverá pagar. Imprima os dados do programa com as mensagens adequadas."
   ]
  },
  {
   "cell_type": "code",
   "execution_count": 35,
   "id": "971ed027",
   "metadata": {
    "id": "971ed027"
   },
   "outputs": [
    {
     "name": "stdout",
     "output_type": "stream",
     "text": [
      "Voccê pegou 49.00 e está dento do regulamento.\n"
     ]
    }
   ],
   "source": [
    "kg = float(input('Quanto Kgs de peixe você trouxe João?'))\n",
    "\n",
    "if kg > 50:\n",
    "    excesso = kg - 50\n",
    "    multa = excesso * 4.00\n",
    "    print(f'João você excedeu o limite de peixe em {excesso:.2f} kg, o valor da multa será de R${multa:.2f} reais.')\n",
    "else:\n",
    "    print(f'Voccê pegou {kg:.2f} e está dentr o do regulamento.')    "
   ]
  },
  {
   "cell_type": "markdown",
   "id": "cba47494",
   "metadata": {
    "id": "cba47494"
   },
   "source": [
    "#### 18. Faça um programa que faça 5 perguntas para uma pessoa sobre um crime. As perguntas são:\n",
    "<pre>\n",
    "\"Telefonou para a vítima?\"\n",
    "\"Esteve no local do crime?\"\n",
    "\"Mora perto da vítima?\"\n",
    "\"Devia para a vítima?\"\n",
    "\"Já trabalhou com a vítima?\" \n",
    "O programa deve no final emitir uma classificação sobre a participação da pessoa no crime. Se a pessoa responder positivamente a 2 questões ela deve ser classificada como \"Suspeita\", entre 3 e 4 como \"Cúmplice\" e 5 como \"Assassino\". Caso contrário, ele será classificado como \"Inocente\".\n",
    "</pre>"
   ]
  },
  {
   "cell_type": "code",
   "execution_count": 48,
   "id": "5fdf9b88",
   "metadata": {
    "id": "5fdf9b88"
   },
   "outputs": [
    {
     "name": "stdout",
     "output_type": "stream",
     "text": [
      "Assassino\n"
     ]
    }
   ],
   "source": [
    "p1 = 0\n",
    "p2 = 0\n",
    "p3 = 0\n",
    "p4 = 0\n",
    "p5 = 0\n",
    "\n",
    "resp = input('Telefonou para a vítima?')\n",
    "if resp == 'sim':\n",
    "    p1 = 1\n",
    "\n",
    "resp = input('Esteve no local do crime?')    \n",
    "if resp == 'sim':\n",
    "    p2 = 1\n",
    "\n",
    "resp = input('Mora perto da vítima?')\n",
    "if resp == 'sim':\n",
    "    p3 = 1\n",
    "resp = input('Devia para a vítima?')\n",
    "if resp == 'sim':\n",
    "    p4 = 1\n",
    "\n",
    "resp = input('Já trabalhou com a vítima?')\n",
    "if resp == 'sim':\n",
    "    p5 = 1\n",
    "\n",
    "total = p1 + p2 + p3 + p4 + p5\n",
    "if total == 2:\n",
    "    print('Suspeita')\n",
    "elif 3<= total <= 4:\n",
    "    print('Cúmplice')\n",
    "elif total == 5:\n",
    "    print('Assassino')\n",
    "else:\n",
    "     print('Inocente')\n",
    "\n"
   ]
  },
  {
   "cell_type": "markdown",
   "id": "18901e98",
   "metadata": {
    "id": "18901e98"
   },
   "source": [
    "#### 19. Um posto está vendendo combustíveis com a seguinte tabela de descontos:\n",
    "<pre>\n",
    "Álcool:\n",
    "até 20 litros, desconto de 3% por litro\n",
    "acima de 20 litros, desconto de 5% por litro\n",
    "Gasolina:\n",
    "até 20 litros, desconto de 4% por litro\n",
    "acima de 20 litros, desconto de 6% por litro\n",
    "\n",
    "Escreva um algoritmo que leia o número de litros vendidos, o tipo de combustível (codificado da seguinte forma: A-álcool, G-gasolina), calcule e imprima o valor a ser pago pelo cliente sabendo-se que o preço do litro da gasolina é R$ 2,50 o preço do litro do álcool é R$ 1,90.\n",
    "</pre>"
   ]
  },
  {
   "cell_type": "code",
   "execution_count": 54,
   "id": "a1fd8c38",
   "metadata": {
    "id": "a1fd8c38"
   },
   "outputs": [
    {
     "name": "stdout",
     "output_type": "stream",
     "text": [
      "Tipo de combustível inválido.\n",
      "Combustivel: b.\n",
      "Litros: 2.0.\n",
      "Valor: R$48.00\n"
     ]
    }
   ],
   "source": [
    "combustivel = input('Tipo de combustível: [A]-Álcool / [G]-Gasolina ')\n",
    "litros = float(input('Litros:'))\n",
    "\n",
    "if combustivel == 'A':\n",
    "    preco = litros * 1.90\n",
    "\n",
    "    if litros <= 20:\n",
    "        desc = 0.03  \n",
    "    elif litros > 20 :\n",
    "        desc = 0.05\n",
    "\n",
    "\n",
    "elif combustivel == 'G':\n",
    "    preco = litros * 2.50\n",
    "\n",
    "    if litros <= 20:\n",
    "        desc = 0.04\n",
    "    elif litros > 20 :\n",
    "        desc = 0.06\n",
    "\n",
    "\n",
    "\n",
    "valor = preco - (preco * desc)      # ou valor = litros * (1 - desc)\n",
    "\n",
    "\n",
    "print(f'Combustivel: {combustivel}.\\n'f'Litros: {litros}.\\n'f'Valor: R${valor:.2f}')   \n"
   ]
  },
  {
   "cell_type": "markdown",
   "id": "be0f8f32",
   "metadata": {
    "id": "be0f8f32"
   },
   "source": [
    "#### 20. Uma fruteira está vendendo frutas com a seguinte tabela de preços:\n",
    "<pre>\n",
    "                      Até 5 Kg           Acima de 5 Kg\n",
    "Morango         R$ 2,50 por Kg          R$ 2,20 por Kg\n",
    "Maçã            R$ 1,80 por Kg          R$ 1,50 por Kg\n",
    "Se o cliente comprar mais de 8 Kg em frutas ou o valor total da compra ultrapassar R$ 25,00, receberá ainda um desconto de 10% sobre este total. Escreva um algoritmo para ler a quantidade (em Kg) de morangos e a quantidade (em Kg) de maças adquiridas e escreva o valor a ser pago pelo cliente.\n",
    "</pre>"
   ]
  },
  {
   "cell_type": "code",
   "execution_count": 60,
   "id": "35c47c8e",
   "metadata": {
    "id": "35c47c8e"
   },
   "outputs": [
    {
     "name": "stdout",
     "output_type": "stream",
     "text": [
      "Morangos:6.0 Kg = R$13.20\n",
      "Maças:6.0 Kg = R$9.00\n",
      "Total: R$22.20\n",
      "Você ganhou um desconto de 10%!\n",
      "Valor com desconto:R$ 19.980000000000004\n"
     ]
    }
   ],
   "source": [
    "kg_morango = float(input('Kgs de morango:'))\n",
    "kg_maca = float(input('Kgs de maça:') )\n",
    "\n",
    "kgs_frutas = kg_morango + kg_maca\n",
    "\n",
    "if kg_morango <= 5:\n",
    "    preco_morango = 2.50\n",
    "    total_morango = kg_morango * preco_morango\n",
    "else:\n",
    "    preco_morango = 2.20\n",
    "    total_morango = kg_morango * preco_morango\n",
    "\n",
    "\n",
    "if kg_maca <= 5:\n",
    "    preco_maca = 1.80\n",
    "    total_maca = kg_maca * preco_maca\n",
    "else:\n",
    "    preco_maca = 1.50\n",
    "    total_maca = kg_maca * preco_maca\n",
    "\n",
    "valor_total = total_morango + total_maca\n",
    "\n",
    "print(f'Morangos:{kg_morango} Kg = R${total_morango:.2f}\\n'f'Maças:{kg_maca} Kg = R${total_maca:.2f}\\n'f'Total: R${valor_total:.2f}')   \n",
    "\n",
    "if kgs_frutas > 8 or valor_total > 25:\n",
    "    valor_dec = valor_total - (valor_total * 0.10)\n",
    "    print('Você ganhou um desconto de 10%!\\n'f'Valor com desconto:R$ {valor_dec:.2f}')\n",
    "\n",
    "\n"
   ]
  },
  {
   "cell_type": "markdown",
   "id": "4dbd53ed",
   "metadata": {
    "id": "4dbd53ed"
   },
   "source": [
    "#### 21. O Hipermercado Tabajara está com uma promoção de carnes que é imperdível. Confira:\n",
    "<pre>\n",
    "                      Até 5 Kg           Acima de 5 Kg\n",
    "File Duplo      R$ 4,90 por Kg          R$ 5,80 por Kg\n",
    "Alcatra         R$ 5,90 por Kg          R$ 6,80 por Kg\n",
    "Picanha         R$ 6,90 por Kg          R$ 7,80 por Kg\n",
    "Para atender a todos os clientes, cada cliente poderá levar apenas um dos tipos de carne da promoção, porém não há limites para a quantidade de carne por cliente. Se compra for feita no cartão Tabajara o cliente receberá ainda um desconto de 5% sobre o total da compra. Escreva um programa que peça o tipo e a quantidade de carne comprada pelo usuário e gere um cupom fiscal, contendo as informações da compra: tipo e quantidade de carne, preço total, tipo de pagamento, valor do desconto e valor a pagar.\n",
    "</pre>"
   ]
  },
  {
   "cell_type": "code",
   "execution_count": 76,
   "id": "15a77357",
   "metadata": {
    "id": "15a77357"
   },
   "outputs": [
    {
     "name": "stdout",
     "output_type": "stream",
     "text": [
      "CUPOM FISCAL\n",
      "Carne: Picanha / Peso: 5.00 = R$34.50\n",
      "Pagamento: D\n"
     ]
    }
   ],
   "source": [
    "carne = input('Qual é a carne?')\n",
    "quantidade = float(input('Kgs:')) \n",
    "pagamento = input('Forma de pagamento: [D]-Dinheiro / [CT]-Cartão Tabajara / [O]-Outros')\n",
    "\n",
    "if carne == 'File Duplo' or carne == 'Alcatra' or carne == 'Picanha':\n",
    "    if carne == 'File Duplo' and quantidade <= 5:\n",
    "        preco = quantidade * 4.90\n",
    "    elif carne == 'File Duplo' and quantidade > 5:\n",
    "        preco = quantidade * 5,80\n",
    "\n",
    "    if carne == 'Alcatra' and quantidade <= 5:\n",
    "        preco = quantidade *5.90\n",
    "    elif carne == 'Alcatra' and quantidade > 5:\n",
    "        preco = quantidade * 6.80\n",
    "\n",
    "    if carne == 'Picanha' and quantidade <= 5:\n",
    "        preco = quantidade * 6.90\n",
    "    elif carne == 'Picanha' and quantidade > 5:\n",
    "        preco = quantidade *7.80\n",
    "\n",
    "\n",
    "    print(f'CUPOM FISCAL\\n'f'Carne: {carne} / Peso: {quantidade:.2f} = R${preco:.2f}')  \n",
    "\n",
    "    \n",
    "    if pagamento == 'CT':\n",
    "        novo_valor = preco - (preco * 0.05)\n",
    "        desc = preco - novo_valor\n",
    "        print(f'Pagamento no Cartão Tabajara com 5% de desconto.\\n'f'Desconto: R${desc:.2f}\\n'f'Total: R${novo_valor:.2f}')\n",
    "    \n",
    "    else:\n",
    "        print(f'Pagamento: {pagamento}')\n",
    "\n",
    "else:\n",
    "    print('Inválido')   \n",
    "\n",
    "\n",
    "\n",
    "\n"
   ]
  }
 ],
 "metadata": {
  "colab": {
   "provenance": []
  },
  "kernelspec": {
   "display_name": "Python 3 (ipykernel)",
   "language": "python",
   "name": "python3"
  },
  "language_info": {
   "codemirror_mode": {
    "name": "ipython",
    "version": 3
   },
   "file_extension": ".py",
   "mimetype": "text/x-python",
   "name": "python",
   "nbconvert_exporter": "python",
   "pygments_lexer": "ipython3",
   "version": "3.11.9"
  }
 },
 "nbformat": 4,
 "nbformat_minor": 5
}
