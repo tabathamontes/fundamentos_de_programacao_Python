{
 "cells": [
  {
   "cell_type": "markdown",
   "metadata": {},
   "source": [
    "### Exercício 1\n",
    "Crie um sistema de consulta de preços\n",
    "Seu sistema deve:\n",
    "- Pedir para o usuário o nome de um produto\n",
    "- Caso o produto exista na lista de produtos, o programa deve retornar o preço do produto como resposta\n",
    "       - Ex: O produto celular custa R$1500\n",
    "- Caso o produto não exista na lista de produtos, o programa deve printar uma mensagem para o usuário tentar novamente\n"
   ]
  },
  {
   "cell_type": "code",
   "execution_count": null,
   "metadata": {},
   "outputs": [],
   "source": [
    "precos = {\"celular\": 1500, \"camera\": 1000, \"fone de ouvido\": 800, \"monitor\": 2000} \n",
    "while True:  \n",
    "    nome_produto = input('Nome do produto:')\n",
    "\n",
    "    if nome_produto in precos:\n",
    "        print(f'O produto {nome_produto} custa R${precos[nome_produto]:.2f}')\n",
    "    else:\n",
    "        print(f'Produto {nome_produto} não está disponivel.')\n",
    "        \n",
    "    cont = input('Deseja continuar?') .strip() .capitalize() [0]\n",
    "    while cont !='S' and cont!= 'N':\n",
    "        cont = input('Deseja continuar?') .strip() .capitalize() [0]\n",
    "    if 'N' in cont:\n",
    "            print('Obrigado!!!') \n",
    "            break   "
   ]
  },
  {
   "cell_type": "markdown",
   "metadata": {},
   "source": [
    "\n",
    "### Exercício 2\n",
    "Agora edite o programa anterior para fazer com que, caso não exista o produto, o programa pergunte se o usuário quer cadastrar o produto\n",
    "<br>Se ele responder sim, o programa deve pedir o nome do produto e o preco do produto e cadastrar no dicionário de preços\n",
    "<br>Em seguida do cadastro bem sucedido, o programa deve printar o dicionário de precos atualizado\n"
   ]
  },
  {
   "cell_type": "code",
   "execution_count": null,
   "metadata": {},
   "outputs": [],
   "source": [
    "precos = {\"celular\": 1500, \"camera\": 1000, \"fone de ouvido\": 800, \"monitor\": 2000}  \n",
    "novos_produtos = []\n",
    "novos_precos = []\n",
    "                                                                                   \n",
    "while True:  \n",
    "    nome_produto = input('Nome do produto:') \n",
    "    if nome_produto in precos:\n",
    "        print(f'O produto {nome_produto} custa R${precos[nome_produto]:.2f}')\n",
    "\n",
    "    else:\n",
    "        cadastro = input(f'Produto {nome_produto} não está disponivel.Deseja cadastar o produto?') .strip() .capitalize() [0] \n",
    "        if cadastro == 'S': \n",
    "            novo_produto = input('Nome do produto:')\n",
    "            preco = float(input('Preço do produto: R$'))\n",
    "            novos_produtos.append(novo_produto)\n",
    "            novos_precos.append(preco)\n",
    "            cadastro = list(zip(novos_produtos,novos_precos))\n",
    "            precos.update(cadastro) \n",
    "            print(f'{novo_produto} Cadastrado!'.capitalize())\n",
    "            \n",
    "        \n",
    "    cont = input('Deseja continuar?') .strip() .capitalize() [0]\n",
    "    while cont !='S' and cont!= 'N':\n",
    "        cont = input('Deseja continuar?') .strip() .capitalize() [0]\n",
    "    if 'N' in cont:\n",
    "            print('Volte Sempre!') \n",
    "            break   \n",
    "print(f'\\n{\"Produto:\":^15}{\"Valor:\":^19}')   \n",
    "for produto, preco in precos.items():    \n",
    "    print(f'{produto:<20}'.capitalize(), f'R${preco:<10.2f}')     "
   ]
  },
  {
   "cell_type": "markdown",
   "metadata": {},
   "source": [
    "### Exercício 3\n",
    "Dada a lista de preços de produtos, uma loja resolveu fazer um reajuste nos preços dos produtos. \n",
    "calcule o novo valor dos produtos com base nas seguintes regras:\n",
    "- Preços até 1.000 vão ter um reajuste de 10% (ou seja, o novo preço será 110% do preço atual)\n",
    "- Preços até maiores que 1.000 até 2.000 vão ter reajuste de 15%\n",
    "- Preços acima de 2.000 vão ter reajuste de 20%"
   ]
  },
  {
   "cell_type": "code",
   "execution_count": null,
   "metadata": {},
   "outputs": [],
   "source": [
    "precos = {\"celular\": 1500, \"camera\": 1000, \"fone de ouvido\": 800, \"monitor\": 3000} \n",
    "\n",
    "for preco in precos:\n",
    "    if precos[preco] <= 1000:\n",
    "        novo_preco = precos[preco]+ (precos[preco] * 0.10)\n",
    "    elif precos[preco] <= 2000:\n",
    "        novo_preco = precos[preco] + (precos[preco] * 0.15 )\n",
    "    else:\n",
    "        novo_preco = precos[preco]+(precos[preco] * 0.20 )   \n",
    "  \n",
    "    print(f\"Produto {preco}, Novo Preço: R${novo_preco:.2f}\")\n",
    "\n",
    "print(precos)   \n",
    "\n",
    "\n"
   ]
  },
  {
   "cell_type": "markdown",
   "metadata": {},
   "source": [
    "### Exercício 4\n",
    " - Edite o programa antigo para ter os 2 dicionários, o de preços originais e o de novos preços\n",
    " - Em seguida calcule o valor total de reajuste em R$ que teve entre a lista de produtos original e a lista final\n"
   ]
  },
  {
   "cell_type": "code",
   "execution_count": null,
   "metadata": {},
   "outputs": [],
   "source": [
    "precos = {\"celular\": 1500, \"camera\": 1000, \"fone de ouvido\": 800, \"monitor\": 3000} \n",
    "novos_precos = {}                                              \n",
    "for preco in precos:\n",
    "    if precos[preco] <= 1000:\n",
    "        novo_preco =  precos[preco] * 1.10\n",
    "    elif precos[preco] <= 2000:\n",
    "        novo_preco = precos[preco] * 1.15 \n",
    "    else:\n",
    "        novo_preco = precos[preco] * 1.20 \n",
    "\n",
    "    novos_precos[preco] = novo_preco\n",
    "    print(f'Produto {preco} / Novo Preço: R${novo_preco:.2f}')\n",
    "\n",
    "antigo = sum(precos.values())\n",
    "novo = sum(novos_precos.values())\n",
    "reajuste = novo - antigo\n",
    "print(f\"O reajuste total foi de R${reajuste:.2f}\")\n",
    "\n",
    "   "
   ]
  }
 ],
 "metadata": {
  "kernelspec": {
   "display_name": "Python 3",
   "language": "python",
   "name": "python3"
  },
  "language_info": {
   "codemirror_mode": {
    "name": "ipython",
    "version": 3
   },
   "file_extension": ".py",
   "mimetype": "text/x-python",
   "name": "python",
   "nbconvert_exporter": "python",
   "pygments_lexer": "ipython3",
   "version": "3.11.9"
  }
 },
 "nbformat": 4,
 "nbformat_minor": 2
}
