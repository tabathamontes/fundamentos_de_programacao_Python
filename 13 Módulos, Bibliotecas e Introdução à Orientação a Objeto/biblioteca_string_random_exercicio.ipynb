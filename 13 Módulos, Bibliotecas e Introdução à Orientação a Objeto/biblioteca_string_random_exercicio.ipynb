{
 "cells": [
  {
   "cell_type": "markdown",
   "id": "bc53556e-a539-4328-b873-fa5357312414",
   "metadata": {},
   "source": [
    "Crie um programa que analise um texto fornecido pelo usuário. O programa deve contar o número de palavras (independentemente se há repetição ou não), a quantidade de cada palavra e a quantidade de cada letra. Ignore maiúsculas e minúsculas ao contar letras (ou seja, transforme tudo para minúsculas). Faça o devido tratamento para pontuação e espaços ao contar palavras.\n",
    "\n",
    "O programa deve conter uma função chamada `analisar_texto` que recebe o texto como parâmetro e retorna a contagem de palavras, a frequência de palavras e a frequência de letras. A função deve ser devidamente documentada.\n",
    "\n",
    "Para o texto \"Olá mundo! Este é um teste. Olá novamente.\" o programa deve imprimir:\n",
    "\n",
    "```\n",
    "Contagem de palavras: 8\n",
    "Frequência de palavras: Counter({'Olá': 2, 'mundo': 1, 'Este': 1, 'é': 1, 'um': 1, 'teste': 1, 'novamente': 1})\n",
    "Frequência de letras: Counter({' ': 7, 'e': 6, 'o': 4, 't': 4, 'm': 3, 'n': 3, 'l': 2, 'á': 2, 'u': 2, 's': 2, 'd': 1, 'é': 1, 'v': 1, 'a': 1})\n",
    "```\n",
    "\n",
    "Dica: use o módulo `string` para obter uma lista de caracteres de pontuação. Exemplo:\n",
    "\n",
    "```python\n",
    "import string\n",
    "print(string.punctuation)\n",
    "```\n",
    "\n",
    "Dica: use o módulo `collections` para obter um contador de palavras e letras. Exemplo:\n",
    "\n",
    "```python\n",
    "from collections import Counter\n",
    "print(Counter(['a', 'b', 'a', 'c', 'b', 'a']))\n",
    "print(Counter('abacba'))\n",
    "``` "
   ]
  },
  {
   "cell_type": "code",
   "execution_count": null,
   "id": "8feda3f2-210f-4224-9b53-de7206c039ae",
   "metadata": {},
   "outputs": [
    {
     "name": "stdout",
     "output_type": "stream",
     "text": [
      "{33: None, 34: None, 35: None, 36: None, 37: None, 38: None, 39: None, 40: None, 41: None, 42: None, 43: None, 44: None, 45: None, 46: None, 47: None, 58: None, 59: None, 60: None, 61: None, 62: None, 63: None, 64: None, 91: None, 92: None, 93: None, 94: None, 95: None, 96: None, 123: None, 124: None, 125: None, 126: None}\n",
      "Olá mundo Este é um teste Olá novamente\n",
      "Contagem de palavras: 8\n",
      "Frequência de palavras: Counter({'Olá': 2, 'mundo': 1, 'Este': 1, 'é': 1, 'um': 1, 'teste': 1, 'novamente': 1})\n",
      "Frequência de letras: Counter({' ': 7, 'e': 6, 'o': 4, 't': 4, 'm': 3, 'n': 3, 'l': 2, 'á': 2, 'u': 2, 's': 2, 'd': 1, 'é': 1, 'v': 1, 'a': 1})\n"
     ]
    }
   ],
   "source": [
    "import string\n",
    "from collections import Counter\n",
    "\n",
    "def analisar_texto(texto):\n",
    "    \"\"\"\n",
    "    Analisa o texto fornecido, e calcula a contagem de palavras, a frequência de palavras e frenquência de letras.\n",
    "    \"\"\"\n",
    "    tratamento = str.maketrans(\"\",\"\",string.punctuation)# maketrans serve para fazer eventuais substituições e dizer o que é para remover .Dentro dos (), nas 1º \"\" é para colocar o que vai ser mudado,nas 2º \"\" pelo o que vai ser mudado, nas 3º \"\" o que vai ser removido, caso não vá ultilizar algum desses metodos, deixe vazio, como acima na 1º e 2º \"\"\n",
    "    texto_tratado = texto.translate(tratamento) #O translate é necessario qdo usar o maketrans, se não ele vai devolver um resultado com números,onde cada, string vale uma numeração. Coloquei abaixo para printar a variavel tratamento, que esta utilizando o maketrans,para vç vizualizar o retorno com números onde cada string vale uma numeração, e depois o print para vc ver o resultado de conversão da variavel de texto_tratado com o metodo translate\n",
    "    print(tratamento)\n",
    "    print(texto_tratado)\n",
    "    palavras = texto_tratado.split()\n",
    "    contagem_palavras = len(palavras)\n",
    "    frequencia_palavras = Counter(palavras)\n",
    "    frequencia_letras = Counter(texto_tratado.lower())\n",
    "    return contagem_palavras, frequencia_palavras, frequencia_letras\n",
    "\n",
    "texto = (\"Olá mundo! Este é um teste. Olá novamente.\") \n",
    "\n",
    "contagem_palavras, frequencia_palavras, frequencia_letras = analisar_texto(texto)\n",
    " \n",
    "print(f\"Contagem de palavras: {contagem_palavras}\")\n",
    "print(f\"Frequência de palavras: {frequencia_palavras}\")\n",
    "print(f\"Frequência de letras: {frequencia_letras}\")                          "
   ]
  },
  {
   "cell_type": "code",
   "execution_count": null,
   "id": "397a1ec1",
   "metadata": {},
   "outputs": [],
   "source": []
  }
 ],
 "metadata": {
  "kernelspec": {
   "display_name": "Python 3",
   "language": "python",
   "name": "python3"
  },
  "language_info": {
   "codemirror_mode": {
    "name": "ipython",
    "version": 3
   },
   "file_extension": ".py",
   "mimetype": "text/x-python",
   "name": "python",
   "nbconvert_exporter": "python",
   "pygments_lexer": "ipython3",
   "version": "3.11.9"
  }
 },
 "nbformat": 4,
 "nbformat_minor": 5
}
