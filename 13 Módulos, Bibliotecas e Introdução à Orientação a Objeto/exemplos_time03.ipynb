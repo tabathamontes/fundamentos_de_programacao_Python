{
 "cells": [
  {
   "cell_type": "markdown",
   "metadata": {},
   "source": [
    "## Contagem regressiva\n",
    "\n",
    "Um evento especial está programado para começar em 10 segundos. Crie uma contagem regressiva que começa em 10 e vai até 0, com uma pausa de um segundo entre cada número.\n"
   ]
  },
  {
   "cell_type": "code",
   "execution_count": 6,
   "metadata": {
    "ExecuteTime": {
     "end_time": "2023-06-26T16:38:24.584039100Z",
     "start_time": "2023-06-26T16:38:14.508979Z"
    },
    "tags": []
   },
   "outputs": [
    {
     "name": "stdout",
     "output_type": "stream",
     "text": [
      "10\n",
      "9\n",
      "8\n",
      "7\n",
      "6\n",
      "5\n",
      "4\n",
      "3\n",
      "2\n",
      "1\n",
      "O evento começou!\n"
     ]
    }
   ],
   "source": [
    "import time\n",
    "\n",
    "for i in range(10, 0, -1):\n",
    "    print(i)\n",
    "    time.sleep(1)\n",
    "print(\"O evento começou!\") "
   ]
  },
  {
   "cell_type": "code",
   "execution_count": 3,
   "metadata": {
    "ExecuteTime": {
     "end_time": "2023-06-28T12:44:39.025400800Z",
     "start_time": "2023-06-28T12:44:39.009703900Z"
    },
    "tags": []
   },
   "outputs": [
    {
     "name": "stdout",
     "output_type": "stream",
     "text": [
      "Vai \n",
      " pular linha\n",
      "Olha \t o tab\n"
     ]
    }
   ],
   "source": [
    "print(\"Vai \\n pular linha\")\n",
    "print(\"Olha \\t o tab\") "
   ]
  },
  {
   "cell_type": "code",
   "execution_count": 7,
   "metadata": {
    "ExecuteTime": {
     "end_time": "2023-06-26T16:38:36.391409300Z",
     "start_time": "2023-06-26T16:38:26.304994300Z"
    },
    "tags": []
   },
   "outputs": [
    {
     "name": "stdout",
     "output_type": "stream",
     "text": [
      "O evento começou!\n"
     ]
    }
   ],
   "source": [
    "import time\n",
    "\n",
    "for i in range(10, 0, -1):\n",
    "    print(i, end=\" \\r\")\n",
    "    time.sleep(1)\n",
    "print(\"O evento começou!\") "
   ]
  },
  {
   "cell_type": "markdown",
   "metadata": {},
   "source": [
    "## Formatação de tempo\n",
    "\n",
    "Uma empresa quer exibir a data e a hora atual em seu site no formato \"Dia da semana, dia do mês de mês do ano, horas:minutos\". Crie um script Python que mostra a data e a hora atuais neste formato.\n",
    "\n"
   ]
  },
  {
   "cell_type": "code",
   "execution_count": 7,
   "metadata": {
    "ExecuteTime": {
     "end_time": "2023-06-26T16:37:50.217631800Z",
     "start_time": "2023-06-26T16:37:50.202016100Z"
    },
    "tags": []
   },
   "outputs": [
    {
     "name": "stdout",
     "output_type": "stream",
     "text": [
      "Data e hora atuais: Monday, 26 de June de 2023, 22:26\n"
     ]
    }
   ],
   "source": [
    "import time\n",
    "\n",
    "tempo_em_struct = time.localtime()\n",
    "tempo_formatado = time.strftime(\"%A, %d de %B de %Y, %H:%M\", tempo_em_struct)\n",
    "\n",
    "print(f\"Data e hora atuais: {tempo_formatado}\")"
   ]
  },
  {
   "cell_type": "code",
   "execution_count": 8,
   "metadata": {
    "ExecuteTime": {
     "end_time": "2023-06-26T16:37:48.380260500Z",
     "start_time": "2023-06-26T16:37:48.364612200Z"
    },
    "tags": []
   },
   "outputs": [
    {
     "name": "stdout",
     "output_type": "stream",
     "text": [
      "Data e hora atuais: segunda-feira, 26 de junho de 2023, 22:27\n"
     ]
    }
   ],
   "source": [
    "import locale\n",
    "import time\n",
    "\n",
    "# Definir a localização para português.\n",
    "locale.setlocale(locale.LC_TIME, 'pt_BR.UTF-8')\n",
    "\n",
    "tempo_em_struct = time.localtime()\n",
    "tempo_formatado = time.strftime(\"%A, %d de %B de %Y, %H:%M\", tempo_em_struct)\n",
    "\n",
    "print(f\"Data e hora atuais: {tempo_formatado}\")"
   ]
  }
 ],
 "metadata": {
  "kernelspec": {
   "display_name": "Python 3",
   "language": "python",
   "name": "python3"
  },
  "language_info": {
   "codemirror_mode": {
    "name": "ipython",
    "version": 3
   },
   "file_extension": ".py",
   "mimetype": "text/x-python",
   "name": "python",
   "nbconvert_exporter": "python",
   "pygments_lexer": "ipython3",
   "version": "3.11.9"
  }
 },
 "nbformat": 4,
 "nbformat_minor": 4
}
