{
 "cells": [
  {
   "cell_type": "markdown",
   "id": "74b1c214-34d8-43a1-867b-1055887eca93",
   "metadata": {},
   "source": [
    "Escreva um programa que gere uma senha aleatória com um determinado comprimento. A senha deve conter uma mistura de letras, números e caracteres especiais. O comprimento da senha deve ser fornecido pelo usuário. Se o comprimento for menor que 4, imprima uma mensagem de erro e peça ao usuário para fornecer um novo comprimento.\n",
    "\n",
    "A senha deve ser aleatória, então cada vez que o usuário executar o programa, uma nova senha deve ser gerada. Obrigatoriamente, a senha deve conter pelo menos uma letra, um número e um caractere especial. A senha não pode conter espaços em branco.\n",
    "\n",
    "O programa deve conter uma função chamada `gerar_senha` que recebe o comprimento da senha como parâmetro e retorna a senha gerada. Se o comprimento for inválido, a função deve retornar None.\n",
    "\n",
    "Exemplo de saída:\n",
    "\n",
    "```\n",
    "Digite o comprimento da senha: 10\n",
    "8Zn$*2q9X\n",
    "```\n",
    "\n",
    "- Dica: use a biblioteca random e a função shuffle para embaralhar os caracteres da senha.\n",
    "- Dica: use a função choice, dessa mesma biblioteca, para escolher um caractere aleatório de uma string.\n",
    "- Dica: use a biblioteca string para obter uma lista de caracteres válidos para a senha."
   ]
  },
  {
   "cell_type": "code",
   "execution_count": 139,
   "id": "c5378f2a",
   "metadata": {},
   "outputs": [
    {
     "name": "stdout",
     "output_type": "stream",
     "text": [
      "ERRO! Sua senha deve ter o tamanho maior que 4 caracteres. Forneça um novo tamanho.\n",
      "Senha gerada com 8 caracteres.\n",
      "G 8 ] 6 P W 9 L\n"
     ]
    }
   ],
   "source": [
    "import random \n",
    "import string\n",
    "\n",
    "def gerar_senha(comprimento):\n",
    "     \n",
    "    while comprimento < 4:\n",
    "        print(\"ERRO! Sua senha deve ter o tamanho maior que 4 caracteres. Forneça um novo tamanho.\")   \n",
    "        comprimento = int(input(\"Qual é o tamanho da senha? \"))\n",
    " \n",
    "    senha = [\n",
    "            random.choice(string.ascii_letters),\n",
    "            random.choice(string.digits),\n",
    "            random.choice(string.punctuation)\n",
    "            ]\n",
    "    possibilidades = \"\".join([string.digits, string.ascii_letters, string.punctuation])\n",
    "    senha.extend(random.choices(possibilidades, k = comprimento -3 ))\n",
    "    random.shuffle(senha)\n",
    "\n",
    "    print(f\"Senha gerada com {len(senha)} caracteres.\")\n",
    "\n",
    "    return \" \".join(senha)\n",
    "\n",
    "\n",
    "tamanho = int(input(\"Qual é o tamanho da senha? \"))\n",
    "print(gerar_senha(tamanho))\n",
    "\n"
   ]
  }
 ],
 "metadata": {
  "kernelspec": {
   "display_name": "Python 3",
   "language": "python",
   "name": "python3"
  },
  "language_info": {
   "codemirror_mode": {
    "name": "ipython",
    "version": 3
   },
   "file_extension": ".py",
   "mimetype": "text/x-python",
   "name": "python",
   "nbconvert_exporter": "python",
   "pygments_lexer": "ipython3",
   "version": "3.11.9"
  }
 },
 "nbformat": 4,
 "nbformat_minor": 5
}
