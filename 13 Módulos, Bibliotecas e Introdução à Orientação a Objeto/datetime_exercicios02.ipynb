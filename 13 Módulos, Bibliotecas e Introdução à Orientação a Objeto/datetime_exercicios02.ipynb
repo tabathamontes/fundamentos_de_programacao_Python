{
 "cells": [
  {
   "cell_type": "markdown",
   "metadata": {},
   "source": [
    "## Calculando a idade\n",
    "\n",
    "Um usuário fornece sua data de nascimento no formato \"dd/mm/aaaa\". Crie um script Python que calcula a idade do usuário.\n"
   ]
  },
  {
   "cell_type": "code",
   "execution_count": 6,
   "metadata": {
    "ExecuteTime": {
     "end_time": "2023-06-29T20:23:25.869016100Z",
     "start_time": "2023-06-29T20:23:16.916184400Z"
    },
    "collapsed": false,
    "jupyter": {
     "outputs_hidden": false
    },
    "tags": []
   },
   "outputs": [
    {
     "name": "stdout",
     "output_type": "stream",
     "text": [
      "Informe sua data de nascimento (dd/mm/aaaa):  04/07/2000\n"
     ]
    },
    {
     "name": "stdout",
     "output_type": "stream",
     "text": [
      "Sua idade é 23 anos.\n"
     ]
    }
   ],
   "source": [
    "from datetime import datetime\n",
    "\n",
    "data_nascimento_usuario = input(\"Informe sua data de nascimento (dd/mm/aaaa): \")\n",
    "data_nascimento_usuario = datetime.strptime(data_nascimento_usuario, \"%d/%m/%Y\")\n",
    "\n",
    "data_atual = datetime.now()\n",
    "\n",
    "idade = data_atual.year - data_nascimento_usuario.year\n",
    "\n",
    "mes_atual = data_atual.month \n",
    "dia_atual = data_atual.day\n",
    "\n",
    "mes_nascimento = data_nascimento_usuario.month \n",
    "dia_nascimento = data_nascimento_usuario.day\n",
    "\n",
    "# se o mês e dia atual for menor que o mês e dia de nascimento, ainda não fez aniversário\n",
    "# por exemplo, se nasceu em 05/07/2000 e hoje é 04/07/2023, ainda não fez aniversário\n",
    "if mes_nascimento > mes_atual:\n",
    "    idade -= 1\n",
    "elif mes_nascimento == mes_atual and dia_nascimento > dia_atual:\n",
    "    idade -= 1\n",
    "\n",
    "print(f\"Sua idade é {idade} anos.\") "
   ]
  }
 ],
 "metadata": {
  "kernelspec": {
   "display_name": "Python 3 (ipykernel)",
   "language": "python",
   "name": "python3"
  },
  "language_info": {
   "codemirror_mode": {
    "name": "ipython",
    "version": 3
   },
   "file_extension": ".py",
   "mimetype": "text/x-python",
   "name": "python",
   "nbconvert_exporter": "python",
   "pygments_lexer": "ipython3",
   "version": "3.10.11"
  }
 },
 "nbformat": 4,
 "nbformat_minor": 4
}
