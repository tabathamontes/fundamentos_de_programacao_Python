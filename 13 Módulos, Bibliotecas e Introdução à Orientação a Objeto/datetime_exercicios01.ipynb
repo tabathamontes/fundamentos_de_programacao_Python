{
 "cells": [
  {
   "cell_type": "markdown",
   "metadata": {},
   "source": [
    "## Oferecendo desconto para cliente com base na última compra\n",
    "\n",
    "Suponha que você está trabalhando para uma empresa que deseja rastrear a atividade do cliente. Uma métrica que eles estão interessados é o tempo que passou desde a última transação do cliente. Se for muito tempo, eles podem oferecer um desconto para o cliente. Crie um script Python que mostra quanto tempo se passou desde a última compra do cliente. Se faz mais de 30 dias, mostre uma mensagem oferecendo um desconto para o cliente."
   ]
  },
  {
   "cell_type": "code",
   "execution_count": null,
   "metadata": {},
   "outputs": [
    {
     "name": "stdout",
     "output_type": "stream",
     "text": [
      "Hoje é dia: 13/11/2024\n",
      "A última compra foi no dia: 12/11/2024\n",
      "Cliente fez compras há 1 dias.\n",
      "Compras com menos de 30 dias\n"
     ]
    }
   ],
   "source": [
    "#qto tempo se passou desde a ultima compra\n",
    "#se mais de 30 dias, ofereça desconto\n",
    "\n",
    "#Deu trabalho,me enrolei em algumas partes, tive que pesquisar,mas saiu\n",
    "\n",
    "import locale\n",
    "from datetime import date,datetime\n",
    "\n",
    "# Definir a localização para português.\n",
    "locale.setlocale(locale.LC_TIME, 'pt_BR.UTF-8')\n",
    "\n",
    "data_atual = date.today()\n",
    "formato = '%d/%m/%Y'\n",
    "data_atual_string = data_atual.strftime(formato)\n",
    "print(f\"Hoje é dia: {data_atual_string}\")\n",
    "\n",
    "# Solicita ao usuário que insira a data da última compra\n",
    "ultima_compra_string = input(\"Última compra:\")\n",
    "\n",
    "# Define o formato da data\n",
    "formato = \"%d/%m/%Y\"\n",
    "\n",
    "# Analisa a string de data e retorna um objeto datetime\n",
    "data_objeto = datetime.strptime(ultima_compra_string, formato)\n",
    "\n",
    "# Converte o objeto datetime de volta para uma string no formato especificado\n",
    "data_formatada_string = data_objeto.strftime(formato)\n",
    "\n",
    "# Imprime a data formatada\n",
    "print(f'A última compra foi no dia: {data_formatada_string}')\n",
    "\n",
    "# STRP Analisa a string de data e retorna um objeto datetime\n",
    "data1 = datetime.strptime(data_atual_string,formato)\n",
    "data2 = datetime.strptime(data_formatada_string,formato)\n",
    "tempo_compra = data1 - data2\n",
    "\n",
    "\n",
    "print(f\"Cliente fez compras há {tempo_compra.days} dias.\")\n",
    "\n",
    "if tempo_compra.days > 30 :\n",
    "    print(f\"Ele tem direito a DESCONTO!\")\n",
    "else:\n",
    "    print(\"Compras com menos de 30 dias\") "
   ]
  },
  {
   "cell_type": "markdown",
   "metadata": {},
   "source": [
    "## Data e hora em diferentes fusos horários\n",
    "\n",
    "Uma empresa tem escritórios em São Paulo, Nova York e Tóquio. Crie um script Python que mostra a data e hora atuais nesses três fusos horários. Exiba, também, se estes escritórios estão abertos ou fechados (9h às 17h).\n"
   ]
  },
  {
   "cell_type": "code",
   "execution_count": 31,
   "metadata": {},
   "outputs": [
    {
     "name": "stdout",
     "output_type": "stream",
     "text": [
      "Data/hora atual em São Paulo: 2024-11-14 18:05:11.584109-03:00\n",
      "Data/hora atual em Nova York: 2024-11-14 16:05:11.584109-05:00\n",
      "Data/hora atual em Tóquio:    2024-11-15 06:05:11.584109+09:00\n",
      "\n",
      "\n",
      "Escritorio de São Paulo fechado!\n",
      "Escritorio de Nova York aberto!\n",
      "Escritorio de Tóquio fechado!\n"
     ]
    }
   ],
   "source": [
    "from datetime import datetime \n",
    "import pytz\n",
    " \n",
    "\n",
    "data_hora_atual_sp = datetime.now()\n",
    "fuso_horario_sao_paulo = pytz.timezone('America/Sao_Paulo')\n",
    "s_p = data_hora_atual_sp.astimezone(fuso_horario_sao_paulo)\n",
    "\n",
    "print(f\"Data/hora atual em São Paulo: {s_p}\") \n",
    "\n",
    "data_hora_atual_nv = datetime.now()\n",
    "fuso_horario_nova_york = pytz.timezone('America/New_York')\n",
    "n_v = data_hora_atual_nv.astimezone(fuso_horario_nova_york)\n",
    "\n",
    "print(f\"Data/hora atual em Nova York: {n_v}\") \n",
    "\n",
    "data_hora_atual_toquio = datetime.now()\n",
    "fuso_horario_toquio = pytz.timezone('Asia/Tokyo')\n",
    "toquio = data_hora_atual_toquio.astimezone(fuso_horario_toquio)\n",
    "\n",
    "print(f\"Data/hora atual em Tóquio:    {toquio}\") \n",
    "\n",
    "print(\"\\n\")\n",
    "\n",
    "if s_p.hour  < 9  or s_p.hour > 17:\n",
    "    print('Escritorio de São Paulo fechado!')\n",
    "else:\n",
    "     print('Escritorio de São Paulo aberto!')  \n",
    "\n",
    "\n",
    "if n_v.hour  < 9  or n_v.hour > 17:\n",
    "    print('Escritorio de Nova York fechado!')\n",
    "else:\n",
    "     print('Escritorio de Nova York aberto!') \n",
    "\n",
    "if toquio.hour  < 9  or toquio.hour > 17:\n",
    "    print('Escritorio de Tóquio fechado!')\n",
    "else:\n",
    "     print('Escritorio de Tóquio aberto!')            \n",
    "\n",
    "\n"
   ]
  }
 ],
 "metadata": {
  "kernelspec": {
   "display_name": "Python 3",
   "language": "python",
   "name": "python3"
  },
  "language_info": {
   "codemirror_mode": {
    "name": "ipython",
    "version": 3
   },
   "file_extension": ".py",
   "mimetype": "text/x-python",
   "name": "python",
   "nbconvert_exporter": "python",
   "pygments_lexer": "ipython3",
   "version": "3.11.9"
  }
 },
 "nbformat": 4,
 "nbformat_minor": 4
}
