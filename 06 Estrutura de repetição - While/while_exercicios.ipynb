{
 "cells": [
  {
   "cell_type": "markdown",
   "id": "ac60394f",
   "metadata": {
    "id": "ac60394f"
   },
   "source": [
    "# Estruturas de repetição\n",
    "\n",
    "<span style=\"color: red;\"><b>Todos os exercícios são feitos partindo-se do pressuposto de que todas as entradas são dadas de forma correta. Casos limite não mencionados no enunciado não são abordados porque não fazem parte do exercício.</b></span>"
   ]
  },
  {
   "cell_type": "markdown",
   "id": "017affd0",
   "metadata": {
    "id": "017affd0"
   },
   "source": [
    "#### 1. Faça um programa que peça uma nota, entre zero e dez. Mostre uma mensagem caso o valor seja inválido e continue pedindo até que o usuário informe um valor válido."
   ]
  },
  {
   "cell_type": "code",
   "execution_count": null,
   "id": "5f12870d",
   "metadata": {
    "id": "5f12870d"
   },
   "outputs": [],
   "source": [
    "nota = int(input('Nota: '))   \n",
    "\n",
    "while True:\n",
    "    if nota < 0 or nota > 10:\n",
    "        print(f'Valor Inválido...Digite um valor de 0 a 10.')\n",
    "        nota = int(input('Digite a Nota novamente: '))\n",
    "    else:\n",
    "        break\n",
    "print(f'A nota que você digitou foi: {nota}')"
   ]
  },
  {
   "cell_type": "markdown",
   "id": "dd0c6d56",
   "metadata": {
    "id": "dd0c6d56"
   },
   "source": [
    "#### 2. Faça um programa que leia um nome de usuário e a sua senha e não aceite a senha igual ao nome do usuário, mostrando uma mensagem de erro e voltando a pedir as informações."
   ]
  },
  {
   "cell_type": "code",
   "execution_count": null,
   "id": "f6579866",
   "metadata": {
    "id": "f6579866"
   },
   "outputs": [],
   "source": [
    "nome = input('Nome:') \n",
    "senha = input('Senha:')\n",
    "\n",
    "while True:\n",
    "    if senha == nome:\n",
    "        print('ERRO! Senha não pode ser igual a nome. Digite novamente.')\n",
    "        nome = input('Nome:')\n",
    "        senha = input('Senha:')\n",
    "    else:\n",
    "        break   \n",
    "print('Dados corretos!!!')        "
   ]
  },
  {
   "cell_type": "markdown",
   "id": "ed113a82",
   "metadata": {
    "id": "ed113a82"
   },
   "source": [
    "#### 3. Faça um programa que leia e valide as seguintes informações (e para cada uma delas, continue pedindo a informação até o usuário inserir corretamente):\n",
    "##### Nome: maior que 3 caracteres;\n",
    "##### Idade: entre 0 e 150;\n",
    "##### Salário: maior que zero;\n",
    "##### Sexo: 'f' ou 'm';\n",
    "##### Estado Civil: 's', 'c', 'v', 'd';"
   ]
  },
  {
   "cell_type": "code",
   "execution_count": null,
   "id": "3284f187",
   "metadata": {
    "id": "3284f187"
   },
   "outputs": [],
   "source": [
    "nome = input('Nome:') .strip() .capitalize()  \n",
    "salario = float(input('Salário:'))\n",
    "sexo = input('Sexo:') .strip() .capitalize() [0]\n",
    "estado_civil = input('Estado Civil: ') .strip() .capitalize() [0]\n",
    "\n",
    "while True:\n",
    "    if len(nome) <= 3 :\n",
    "        print('Nome precisa ter mais que 3 caracteres. Digite novamente.')\n",
    "        nome = input('Nome:')  .strip() .capitalize()\n",
    "    elif idade < 0 or idade >= 150:\n",
    "        print('Idade inválida. Digite idade valida.')\n",
    "        idade = int(input('Idade:'))\n",
    "    elif salario <= 0 :\n",
    "        print('Salário inválido. Digite novamente.')\n",
    "        salario = float(input('Salário:'))\n",
    "    elif sexo != 'F' and sexo != 'M': \n",
    "        print('Sexo inválido. Digite novamente.')\n",
    "        sexo = input('Sexo:') .strip() .capitalize() [0]\n",
    "    elif estado_civil != 'S' and estado_civil != 'C' and estado_civil != 'V' and estado_civil != 'D':   \n",
    "        print('Estado Civil inválido. Digite novamente.')     \n",
    "        estado_civil = input('Estado Civil: ') .strip() .capitalize() [0]\n",
    "    else:\n",
    "        break\n",
    "\n",
    "print('Dados cadastrados!')    \n",
    "print(f'Nome: {nome}, Idade: {idade}, Salário: {salario:.2f}, Sexo: {sexo}, Estado Civil: {estado_civil}') "
   ]
  },
  {
   "cell_type": "markdown",
   "id": "2f25dceb",
   "metadata": {
    "id": "2f25dceb"
   },
   "source": [
    "#### 4. Supondo que a população de um país A seja da ordem de 80000 habitantes com uma taxa anual de crescimento de 3% e que a população de B seja 200000 habitantes com uma taxa de crescimento de 1.5%. Faça um programa que calcule e escreva o número de anos necessários para que a população do país A ultrapasse ou iguale a população do país B, mantidas as taxas de crescimento."
   ]
  },
  {
   "cell_type": "code",
   "execution_count": null,
   "id": "7ad0f5e9",
   "metadata": {
    "id": "7ad0f5e9"
   },
   "outputs": [],
   "source": [
    "paisA = 80000    #não consegui fazer, precisei olhar e pesquisar ,errei em não ter convertido as porcentagens em decimal 3% em 0.03 e 1.5% em 0.015\n",
    "taxa_anual_cresA = 0.03              \n",
    "paisB = 200000\n",
    "taxa_anual_cresB =0.015\n",
    "\n",
    "\n",
    "\n",
    "tempo = 0\n",
    "while paisA < paisB:\n",
    "    paisA += paisA * taxa_anual_cresA\n",
    "    paisB += paisB * taxa_anual_cresB  #Tbm não tinha entendido o pq de calcular o paisB. O cálculo da população do país B é necessário \n",
    "                                       #para comparar o crescimento de ambos os países ao longo do tempo. Mesmo que o enunciado peça para calcular quantos anos o país A levaria para igualar ou ultrapassar o país B, precisamos acompanhar o crescimento do país B para saber quando isso acontece. Embora o país B comece com uma população maior e continue crescendo, a taxa de crescimento do país A é maior (3% ao ano) comparada à do país B (1,5% ao ano). Isso significa que, apesar de ambos crescerem, a população do país A aumenta mais rapidamente a cada ano.\n",
    "    tempo += 1\n",
    "    \n",
    "print(tempo)\n",
    "\n",
    "\n",
    "\n"
   ]
  },
  {
   "cell_type": "markdown",
   "id": "b3d268b5",
   "metadata": {
    "id": "b3d268b5"
   },
   "source": [
    "#### 5. Faça um programa que peça para o usuário inserir o faturamento dos últimos 5 meses (individualmente) e informe o maior faturamento"
   ]
  },
  {
   "cell_type": "code",
   "execution_count": null,
   "id": "8078e7a5",
   "metadata": {
    "id": "8078e7a5"
   },
   "outputs": [],
   "source": [
    "faturamentos = [] \n",
    "mes = 1\n",
    "while mes <= 5:\n",
    "    faturamento = float(input(f'Qual foi o faturamento do {mes}º mês? R$'))\n",
    "    faturamentos.append(faturamento)\n",
    "    mes += 1\n",
    "print(f'O maior faturamento foi de R${(max(faturamentos)):.2f}')   \n",
    "\n"
   ]
  },
  {
   "cell_type": "markdown",
   "id": "6407824c",
   "metadata": {
    "id": "6407824c"
   },
   "source": [
    "#### 6. Faça um programa que peça para o usuário inserir o faturamento dos últimos 5 meses (individualmente) e informe o faturamento total (soma) e o faturamento médio por mês (média)."
   ]
  },
  {
   "cell_type": "code",
   "execution_count": null,
   "id": "a02320d1",
   "metadata": {
    "id": "a02320d1"
   },
   "outputs": [],
   "source": [
    "faturamentos = []  \n",
    "mes = 1 \n",
    "while mes <= 5:\n",
    "    faturamento = float(input(f'Qual foi o faturamento do {mes}º mês? R$'))\n",
    "    faturamentos.append(faturamento)\n",
    "    mes += 1\n",
    "   \n",
    "print(f'O faturamento total foi de R${sum(faturamentos):.2f}') \n",
    "print(f'A média do faturamento foi de R${sum(faturamentos) / 5:.2f}') "
   ]
  },
  {
   "cell_type": "markdown",
   "id": "703f3c4d",
   "metadata": {
    "id": "703f3c4d"
   },
   "source": [
    "#### 7. Faça um programa que consiga categorizar a idade das equipes de uma empresa. Faça um programa que peça para n pessoas a sua idade, ao final o programa devera verificar se a média de idade da equipe varia entre 0 e 25 (jovem) ,26 e 60 (sênior) e maior que 60 (idosa); e então, dizer se a equipe é jovem, sênior ou idosa, conforme a média calculada."
   ]
  },
  {
   "cell_type": "code",
   "execution_count": null,
   "id": "b56a85de",
   "metadata": {
    "id": "b56a85de"
   },
   "outputs": [],
   "source": [
    "idades = [] \n",
    "while True:\n",
    "    idade = int(input('Idade: '))\n",
    "    idades.append(idade)\n",
    "    pessoas +=1\n",
    "    cont = input('Você quer cadastrar mais pessoas? ') .strip() .capitalize() [0]\n",
    "\n",
    "    while cont !='S' and cont!= 'N':\n",
    "        cont = input('Você quer cadastrar mais pessoas? ') .strip() .capitalize() [0]\n",
    "    if 'N' in cont:\n",
    "            break\n",
    "media = sum(idades) / pessoas \n",
    "if 0 <= media <= 25:\n",
    "     print(f'A media de idades do grupo é de {media}\\n Temos uma equipe JOVEM.')\n",
    "elif 26 <= media <= 60:     \n",
    "     print(f'A media de idades do grupo é de {media}\\n Temos uma equipe SÊNIOR.')\n",
    "else:\n",
    "     print(f'A media de idades do grupo é de {media}\\n Temos uma equipe IDOSA.')\n",
    " "
   ]
  },
  {
   "cell_type": "markdown",
   "id": "aad21b98",
   "metadata": {
    "id": "aad21b98"
   },
   "source": [
    "#### 8. Numa eleição existem três candidatos. Faça um programa que peça o número total de eleitores. Peça para cada eleitor votar e ao final mostrar o número de votos de cada candidato."
   ]
  },
  {
   "cell_type": "code",
   "execution_count": null,
   "id": "84aa7a93",
   "metadata": {
    "id": "84aa7a93"
   },
   "outputs": [],
   "source": [
    "eleitores = int(input('Quantos eleitores vão votar? '))  \n",
    "\n",
    "candidato1 = 0 \n",
    "candidato2 = 0 \n",
    "candidato3 = 0\n",
    "\n",
    "for i in range(eleitores):\n",
    "    voto = input('Voto no candidato: ')\n",
    "\n",
    "    while voto != '1' and voto != '2' and voto!= '3': #pesquisei se a pessoa não colocasse o numero certo do candidato,\n",
    "                                                      #quase fiz certo essa parte,mas eu estava colocando um if em vez de while\n",
    "        print('Canditato inválido. Tente novamente!')\n",
    "        voto = input('Voto no candidato: ')\n",
    "    \n",
    "    if '1' in voto:\n",
    "        candidato1 += 1\n",
    "    elif '2' in voto:\n",
    "        candidato2 += 1  \n",
    "    else:\n",
    "        candidato3 += 1 \n",
    "             \n",
    "print(f'Número de votos\\nCandidato 1: {candidato1} votos\\nCandidato 2: {candidato2} votos\\nCandidato 3: {candidato3} votos')"
   ]
  },
  {
   "cell_type": "markdown",
   "id": "6e306453",
   "metadata": {
    "id": "6e306453"
   },
   "source": [
    "#### 9. Faça um programa que calcule o valor total investido por um colecionador em sua coleção de CDs e o valor médio gasto em cada um deles. O usuário deverá informar a quantidade de CDs e o valor para em cada um."
   ]
  },
  {
   "cell_type": "code",
   "execution_count": null,
   "id": "6b7fa4a2",
   "metadata": {
    "id": "6b7fa4a2"
   },
   "outputs": [],
   "source": [
    "quantidade = int(input('Quantos CDs o colecionador tem?')) \n",
    "\n",
    "valores = 0\n",
    "\n",
    "for i in range(quantidade):\n",
    "    valor = float(input(f'Qual é o valor do {i+1}º CD? R$'))\n",
    "    valores += valor\n",
    "\n",
    "media = valores / quantidade\n",
    "\n",
    "  \n",
    "print(f'O valor total investido na coleção é de R$ {valores:.2f}')\n",
    "print(f'A média gasta em cada CD é de R$ {media:.2f}')  "
   ]
  },
  {
   "cell_type": "markdown",
   "id": "f19c8d86",
   "metadata": {
    "id": "f19c8d86"
   },
   "source": [
    "\n",
    "#### 10. O Sr. Manoel Joaquim possui uma grande loja de artigos de R\\\\$ 1,99, com cerca de 10 caixas. Para agilizar o cálculo de quanto cada cliente deve pagar ele desenvolveu um tabela que contém o número de itens que o cliente comprou e ao lado o valor da conta. Desta forma a atendente do caixa precisa apenas contar quantos itens o cliente está levando e olhar na tabela de preços. Você foi contratado para desenvolver o programa que monta esta tabela de preços, que conterá os preços de 1 até 50 produtos, conforme o exemplo abaixo:\n",
    "<pre>\n",
    "Lojas Quase Dois - Tabela de preços\n",
    "1 - R$ 1.99\n",
    "2 - R$ 3.98\n",
    "...\n",
    "50 - R$ 99.50\n",
    "</pre>"
   ]
  },
  {
   "cell_type": "code",
   "execution_count": null,
   "id": "4fc4d54d",
   "metadata": {
    "id": "4fc4d54d"
   },
   "outputs": [],
   "source": [
    "print(f'{\"LOJA QUASE DOIS\":^20}\\n{\"Unid.\":<}{\"Valores\":>12}')  \n",
    "\n",
    "total = 0\n",
    "for i in range(50):\n",
    "    total += 1.99 \n",
    "    print(f'{i+1:>3} {\"R$\":>8}{total:.2f}')   "
   ]
  },
  {
   "cell_type": "markdown",
   "id": "6cd19c52",
   "metadata": {
    "id": "6cd19c52"
   },
   "source": [
    "#### 11. Um funcionário de uma empresa recebe aumento salarial anualmente: Sabe-se que:\n",
    "<pre>\n",
    "Esse funcionário foi contratado em 1995, com salário inicial de R$ 1.000,00;\n",
    "Em 1996 recebeu aumento de 1,5% sobre seu salário inicial;\n",
    "A partir de 1997 (inclusive), os aumentos salariais sempre correspondem ao dobro do percentual do ano anterior. Faça um programa que determine o salário desse funcionário em 2003. \n",
    "</pre>"
   ]
  },
  {
   "cell_type": "code",
   "execution_count": null,
   "id": "98a4811b",
   "metadata": {
    "id": "98a4811b"
   },
   "outputs": [],
   "source": [
    "salario_inicial = 1000      \n",
    "aumento = salario_inicial + (salario_inicial * 0.015)     #0.015 em decimal\n",
    "\n",
    "dobro = 0.015 \n",
    "for i in range(1997, 2004):\n",
    "    dobro *= 2 \n",
    "    aumento *= (1 + dobro)\n",
    "    print(f'{i+1}  {dobro:.1%}{\"R$\":>5}{aumento:.2f}')\n"
   ]
  },
  {
   "cell_type": "markdown",
   "id": "227928d1",
   "metadata": {
    "id": "227928d1"
   },
   "source": [
    "#### 12. O cardápio de uma lanchonete é o seguinte:\n",
    "<pre>\n",
    "Especificação   Código  Preço\n",
    "Cachorro Quente 100     R$ 1,20\n",
    "Bauru Simples   101     R$ 1,30\n",
    "Bauru com ovo   102     R$ 1,50\n",
    "Hambúrguer      103     R$ 1,20\n",
    "Cheeseburguer   104     R$ 1,30\n",
    "Refrigerante    105     R$ 1,00\n",
    "Faça um programa que leia o código dos itens pedidos e as quantidades desejadas. Calcule e mostre o valor a ser pago por item (preço * quantidade) e o total geral do pedido. Considere que o cliente deve informar quando o pedido deve ser encerrado.\n",
    "</pre>"
   ]
  },
  {
   "cell_type": "code",
   "execution_count": null,
   "id": "8a784b86",
   "metadata": {
    "id": "8a784b86"
   },
   "outputs": [],
   "source": [
    "codigo = int(input('Qual é o código do produto ?')) #DEU UM pouquinho de TRABALHO,POR CONTA DO LAÇO DE REPETIÇÃO E VERIFICAÇÕES DENTRO DO LAÇO,\n",
    "qtd = int(input('Qual a quantidade do produto?'))   \n",
    "  \n",
    "total = 0\n",
    "while True:\n",
    "    if codigo == 100 :\n",
    "                valor = qtd * 1.20\n",
    "                total += valor\n",
    "\n",
    "    if codigo == 101 :\n",
    "                valor = qtd * 1.30\n",
    "                total += valor\n",
    "\n",
    "    if codigo == 102 :\n",
    "                valor = qtd * 1.50 \n",
    "                total += valor  \n",
    "\n",
    "    if codigo == 103 :\n",
    "                valor = qtd * 1.20 \n",
    "                total += valor \n",
    "\n",
    "    if codigo == 104 :\n",
    "                valor = qtd * 1.30\n",
    "                total += valor\n",
    "\n",
    "    if codigo == 105:\n",
    "                valor = qtd * 1.00  \n",
    "                total += valor\n",
    "    \n",
    "    cont = input('Você deseja algo mais? ') .strip() .capitalize() [0] \n",
    "\n",
    "    while cont != 'S' and  cont != 'N':\n",
    "        print('Valor inválido! Tente novamente...')\n",
    "        cont = input('Você deseja algo mais? ') .strip() .capitalize() [0] \n",
    "\n",
    "    if cont == 'S':\n",
    "        codigo = int(input('Qual é o código do produto ?'))\n",
    "        qtd = int(input('Qual a quantidade do produto?'))\n",
    "                  \n",
    "    elif cont == 'N':\n",
    "        break\n",
    "   \n",
    "\n",
    "print(f'Total do pedido:\\nR${total:.2f}')  \n"
   ]
  },
  {
   "cell_type": "markdown",
   "id": "9877b8ba",
   "metadata": {
    "id": "9877b8ba"
   },
   "source": [
    "#### 13. Uma grande emissora de televisão quer fazer uma enquete entre os seus telespectadores para saber qual o melhor jogador após cada jogo. Para isto, faz-se necessário o desenvolvimento de um programa, que será utilizado pelas telefonistas, para a computação dos votos. Sua equipe foi contratada para desenvolver este programa, utilizando a linguagem de programação Python. Para computar cada voto, a telefonista digitará um número, entre 1 e 23, correspondente ao número da camisa do jogador. Um número de jogador igual zero, indica que a votação foi encerrada. Se um número inválido for digitado, o programa deve ignorá-lo, mostrando uma breve mensagem de aviso, e voltando a pedir outro número. Após o final da votação, o programa deverá exibir:\n",
    "<pre>a. O total de votos computados;\n",
    "b. Os números e respectivos votos de todos os jogadores que receberam votos;\n",
    "c. O percentual de votos de cada um destes jogadores;\n",
    "d. O número do jogador escolhido como o melhor jogador da partida, juntamente com o número de votos e o percentual de votos dados a ele.\n",
    "        Observe que os votos inválidos e o zero final não devem ser computados como votos. O resultado aparece ordenado pelo número do jogador. O programa deve fazer uso de arrays. O programa deverá executar o cálculo do percentual de cada jogador através de uma função. Esta função receberá dois parâmetros: o número de votos de um jogador e o total de votos. A função calculará o percentual e retornará o valor calculado. Abaixo segue uma tela de exemplo. O disposição das informações deve ser o mais próxima possível ao exemplo. Os dados são fictícios e podem mudar a cada execução do programa. Ao final, o programa deve ainda gravar os dados referentes ao resultado da votação em um arquivo texto no disco, obedecendo a mesma disposição apresentada na tela.</pre>\n",
    "```\n",
    "Enquete: Quem foi o melhor jogador?\n",
    "\n",
    "Número do jogador (0=fim): 9\n",
    "Número do jogador (0=fim): 10\n",
    "Número do jogador (0=fim): 9\n",
    "Número do jogador (0=fim): 10\n",
    "Número do jogador (0=fim): 11\n",
    "Número do jogador (0=fim): 10\n",
    "Número do jogador (0=fim): 50\n",
    "Informe um valor entre 1 e 23 ou 0 para sair!\n",
    "Número do jogador (0=fim): 9\n",
    "Número do jogador (0=fim): 9\n",
    "Número do jogador (0=fim): 0\n",
    "\n",
    "Resultado da votação:\n",
    "\n",
    "Foram computados 8 votos.\n",
    "\n",
    "Jogador Votos           %\n",
    "9               4               50,0%\n",
    "10              3               37,5%\n",
    "11              1               12,5%\n",
    "``` "
   ]
  },
  {
   "cell_type": "code",
   "execution_count": null,
   "id": "79b82364",
   "metadata": {
    "id": "79b82364"
   },
   "outputs": [],
   "source": [
    "votos = []\n",
    "print('Enquete: Quem foi o melhor jogador? ')              #NÃO CONSEGUI PENSAR EM UMA FORMA DE ADICIONAR  VALORES NA LISTA votos\n",
    "for i in range(23):\n",
    "    votos.append(0)\n",
    "\n",
    "while True:\n",
    "    numero = int(input('Número do jogador:')) \n",
    "    \n",
    "    if numero == 0:\n",
    "        print(f'{\"Programa encerrado...\":^50}') \n",
    "        break\n",
    "        \n",
    "    elif  numero < 1 or numero > 23 :\n",
    "        print('Informe um valor entre 1 e 23.') \n",
    "\n",
    "    else:\n",
    "        votos[numero - 1] += 1\n",
    "        \n",
    "print(f'\\n{\"Resultado da votação:\":^50}')\n",
    "\n",
    "print(f'\\nForam computados {sum(votos) } votos.')\n",
    "\n",
    "print(f'\\nJogador {\"Votos\":>12} {\"Percentual %\":>15}')  \n",
    "for i, voto  in enumerate(votos):\n",
    "    if voto > 0:\n",
    "        print(f'{i+1} {voto:>14}  {voto/sum(votos):>12.2%}') \n",
    "       "
   ]
  }
 ],
 "metadata": {
  "colab": {
   "collapsed_sections": [],
   "provenance": []
  },
  "kernelspec": {
   "display_name": "Python 3",
   "language": "python",
   "name": "python3"
  },
  "language_info": {
   "codemirror_mode": {
    "name": "ipython",
    "version": 3
   },
   "file_extension": ".py",
   "mimetype": "text/x-python",
   "name": "python",
   "nbconvert_exporter": "python",
   "pygments_lexer": "ipython3",
   "version": "3.11.9"
  }
 },
 "nbformat": 4,
 "nbformat_minor": 5
}
