{
 "cells": [
  {
   "cell_type": "markdown",
   "metadata": {},
   "source": [
    "# Exercícios\n",
    "\n",
    "## 1. Input até o usuário parar\n",
    "\n",
    "Vamos criar um sistema de vendas. Nosso programa deve registrar os produtos e as quantidades (2 inputs) e adicionar em uma lista.\n",
    "\n",
    "O programa deve continuar rodando até o input ser vazio, ou seja, o usuário apertar enter sem digitar nenhum produto ou quantidade.\n",
    "\n",
    "Ao final do programa, ele deve printar todos os produtos e quantidades vendidas.\n",
    "\n",
    "Obs: Caso queira, para o print ficar mais visual, pode usar o join para cada item ser printado em uma linha.\n",
    "Sugestão para sua lista de produtos vendidos:\n",
    "\n",
    "Exemplo para criar a lista:\n",
    "'''vendas = [\n",
    "    ['maçã', 5],\n",
    "    ['banana', 15],\n",
    "    ['azeite', 1],\n",
    "    ['vinho', 3],\n",
    "]'''\n"
   ]
  },
  {
   "cell_type": "code",
   "execution_count": 13,
   "metadata": {},
   "outputs": [
    {
     "name": "stdout",
     "output_type": "stream",
     "text": [
      "[['a', 3]]\n"
     ]
    }
   ],
   "source": [
    "\n",
    "#1. While com a condição break que finalize o programa.\n",
    "vendas = []\n",
    "\n",
    "while True:\n",
    "    produto = input('Produto: ')\n",
    "\n",
    "    if not produto :\n",
    "        break\n",
    "\n",
    "    quantidade = int(input('Quantidade: '))\n",
    "    vendas.append([produto,quantidade])   \n",
    "\n",
    "print(vendas)"
   ]
  },
  {
   "cell_type": "code",
   "execution_count": 18,
   "metadata": {},
   "outputs": [
    {
     "name": "stdout",
     "output_type": "stream",
     "text": [
      "[['a', 3], ['s', 2]]\n"
     ]
    }
   ],
   "source": [
    "#While rodanddê um break no códigoo para sempre, mas com uma condição dentro do while que finalize o programa.\n",
    " \n",
    "vendas = []\n",
    "\n",
    "produto = input('Produto: ')\n",
    "quantidade = int(input('Quantidade: ')\n",
    ")\n",
    "while produto != '':  #ou      while produto:\n",
    "    vendas.append([produto,quantidade])\n",
    "    produto = input('Produto: ')\n",
    "    quantidade =  int(input('Quantidade: ')#aqui a pessoa não pode deixar vazio, se não dá erro, tem q colocar pelo menos o 0\n",
    ")\n",
    "\n",
    "print(vendas)\n",
    "\n"
   ]
  },
  {
   "cell_type": "markdown",
   "metadata": {},
   "source": [
    "### Obs: Podemos fazer o While de 2 maneiras:\n",
    "\n",
    "1. While com a condição que finalize o programa\n",
    "2. While rodando para sempre, mas com uma condição dentro do while que dê um break no código.\n"
   ]
  }
 ],
 "metadata": {
  "kernelspec": {
   "display_name": "Python 3",
   "language": "python",
   "name": "python3"
  },
  "language_info": {
   "codemirror_mode": {
    "name": "ipython",
    "version": 3
   },
   "file_extension": ".py",
   "mimetype": "text/x-python",
   "name": "python",
   "nbconvert_exporter": "python",
   "pygments_lexer": "ipython3",
   "version": "3.11.9"
  }
 },
 "nbformat": 4,
 "nbformat_minor": 4
}
