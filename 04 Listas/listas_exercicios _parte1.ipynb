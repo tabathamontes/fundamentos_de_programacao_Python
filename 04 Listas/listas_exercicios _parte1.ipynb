{
 "cells": [
  {
   "cell_type": "markdown",
   "metadata": {},
   "source": [
    "# Exercícios\n",
    "\n",
    "## 1. Faturamento do Melhor e do Pior Mês do Ano\n",
    "\n",
    "Qual foi o valor de vendas do melhor mês do Ano?\n",
    "E valor do pior mês do ano?"
   ]
  },
  {
   "cell_type": "code",
   "execution_count": null,
   "metadata": {},
   "outputs": [],
   "source": [
    "meses = ['jan', 'fev', 'mar', 'abr', 'mai', 'jun', 'jul', 'ago', 'set', 'out', 'nov', 'dez']\n",
    "vendas_1sem = [25000, 29000, 22200, 17750, 15870, 19900]\n",
    "vendas_2sem = [19850, 20120, 17540, 15555, 49051, 9650]\n",
    "\n",
    "'''\n",
    "Podia ter feito assim, para juntar as listas, mas fiz do jeito de baixo, usando '+'\n",
    "vendas_1sem.extend(vendas_2sem)\n",
    "print(vendas_1sem) '''\n",
    "\n",
    "\n",
    "vendas_ano = vendas_1sem + vendas_2sem\n",
    "print(vendas_ano)\n",
    "\n"
   ]
  },
  {
   "cell_type": "markdown",
   "metadata": {},
   "source": [
    "## 2. Continuação\n",
    "\n",
    "Agora relacione as duas listas para printar 'O melhor mês do ano foi {} com {} vendas' e o mesmo para o pior mês do ano.\n",
    "\n",
    "Calcule também o faturamento total do Ano e quanto que o melhor mês representou do faturamento total.\n",
    "\n",
    "Obs: Para o faturamento total, pode usar a função sum(lista) que soma todos os itens de uma lista"
   ]
  },
  {
   "cell_type": "code",
   "execution_count": null,
   "metadata": {},
   "outputs": [],
   "source": [
    "maior = max(vendas_ano)\n",
    "menor = min(vendas_ano)\n",
    "\n",
    "indice_maior = vendas_ano.index(maior)\n",
    "indice_menor = vendas_ano.index(menor)\n",
    "\n",
    "print(f'O melhor mês do ano foi {meses[indice_maior]} com R${maior:.2f} vendas.\\n' f'O pior mês do ano foi {meses[indice_menor]} com R${menor:.2f} vendas.') \n",
    "\n",
    "\n",
    "faturamento_ano = sum(vendas_ano)\n",
    "print(f'O faturamento total do Ano foi de R${faturamento_ano:.2f}')\n",
    "\n",
    "percentual = (maior / faturamento_ano ) *100\n",
    "print(f'O melhor mês representou {percentual:.1%}% do faturamento total.')"
   ]
  },
  {
   "cell_type": "markdown",
   "metadata": {},
   "source": [
    "## 3. Crie uma lista com o top 3 valores de vendas do ano (sem fazer \"no olho\")\n",
    "\n",
    "Dica: o método remove retira um item da lista."
   ]
  },
  {
   "cell_type": "code",
   "execution_count": null,
   "metadata": {},
   "outputs": [],
   "source": [
    "vendas_ano.sort(reverse=True)\n",
    "top3 = vendas_ano[0:3]\n",
    "\n",
    "print(f'Os top 3 de valores foram: {top3}')"
   ]
  }
 ],
 "metadata": {
  "kernelspec": {
   "display_name": "Python 3",
   "language": "python",
   "name": "python3"
  },
  "language_info": {
   "codemirror_mode": {
    "name": "ipython",
    "version": 3
   },
   "file_extension": ".py",
   "mimetype": "text/x-python",
   "name": "python",
   "nbconvert_exporter": "python",
   "pygments_lexer": "ipython3",
   "version": "3.11.9"
  }
 },
 "nbformat": 4,
 "nbformat_minor": 4
}
